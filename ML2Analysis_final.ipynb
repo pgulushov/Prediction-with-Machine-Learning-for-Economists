{
 "cells": [
  {
   "cell_type": "code",
   "execution_count": 92,
   "id": "a2477c7b",
   "metadata": {},
   "outputs": [
    {
     "ename": "ModuleNotFoundError",
     "evalue": "No module named 'py_helper_functions'",
     "output_type": "error",
     "traceback": [
      "\u001b[0;31m---------------------------------------------------------------------------\u001b[0m",
      "\u001b[0;31mModuleNotFoundError\u001b[0m                       Traceback (most recent call last)",
      "\u001b[0;32m<ipython-input-92-9c7982a61c70>\u001b[0m in \u001b[0;36m<module>\u001b[0;34m\u001b[0m\n\u001b[1;32m     25\u001b[0m \u001b[0;32mfrom\u001b[0m \u001b[0msklearn\u001b[0m\u001b[0;34m.\u001b[0m\u001b[0mpreprocessing\u001b[0m \u001b[0;32mimport\u001b[0m \u001b[0mOneHotEncoder\u001b[0m\u001b[0;34m\u001b[0m\u001b[0;34m\u001b[0m\u001b[0m\n\u001b[1;32m     26\u001b[0m \u001b[0;32mfrom\u001b[0m \u001b[0msklearn\u001b[0m\u001b[0;34m.\u001b[0m\u001b[0mensemble\u001b[0m \u001b[0;32mimport\u001b[0m \u001b[0mGradientBoostingRegressor\u001b[0m\u001b[0;34m\u001b[0m\u001b[0;34m\u001b[0m\u001b[0m\n\u001b[0;32m---> 27\u001b[0;31m \u001b[0;32mfrom\u001b[0m \u001b[0mpy_helper_functions\u001b[0m \u001b[0;32mimport\u001b[0m \u001b[0;34m*\u001b[0m\u001b[0;34m\u001b[0m\u001b[0;34m\u001b[0m\u001b[0m\n\u001b[0m",
      "\u001b[0;31mModuleNotFoundError\u001b[0m: No module named 'py_helper_functions'"
     ]
    }
   ],
   "source": [
    "import pandas as pd\n",
    "import numpy as np\n",
    "import os\n",
    "from pathlib import Path\n",
    "import sys\n",
    "from patsy import dmatrices\n",
    "from sklearn.model_selection import train_test_split\n",
    "from mizani.formatters import percent_format\n",
    "from plotnine import *\n",
    "import matplotlib.pyplot as plt\n",
    "from sklearn.tree import DecisionTreeRegressor\n",
    "from skranger.ensemble import RangerForestRegressor\n",
    "from sklearn.model_selection import GridSearchCV\n",
    "from sklearn.model_selection import RandomizedSearchCV\n",
    "from sklearn.linear_model import LinearRegression, Lasso\n",
    "from sklearn.impute import SimpleImputer\n",
    "from sklearn.inspection import permutation_importance\n",
    "from sklearn.inspection import plot_partial_dependence\n",
    "from sklearn.inspection import partial_dependence\n",
    "from sklearn.preprocessing import StandardScaler\n",
    "from sklearn.metrics import mean_squared_error\n",
    "from sklearn.compose import ColumnTransformer\n",
    "from sklearn.pipeline import Pipeline\n",
    "from sklearn.model_selection import cross_val_score\n",
    "from sklearn.preprocessing import OneHotEncoder\n",
    "from sklearn.ensemble import GradientBoostingRegressor\n",
    "from py_helper_functions import *"
   ]
  },
  {
   "cell_type": "code",
   "execution_count": 52,
   "id": "16a8d355",
   "metadata": {},
   "outputs": [],
   "source": [
    "data=pd.read_csv('listings_mad_cleaned.csv')"
   ]
  },
  {
   "cell_type": "code",
   "execution_count": 53,
   "id": "cabd2e26",
   "metadata": {},
   "outputs": [
    {
     "data": {
      "text/plain": [
       "Index([], dtype='object')"
      ]
     },
     "execution_count": 53,
     "metadata": {},
     "output_type": "execute_result"
    }
   ],
   "source": [
    "to_filter=data.isna().sum()\n",
    "to_filter[to_filter>0].index"
   ]
  },
  {
   "cell_type": "code",
   "execution_count": 54,
   "id": "73ad32c2",
   "metadata": {},
   "outputs": [],
   "source": [
    "def count_missing_values(df):\n",
    "    return df.isna().sum()[df.isna().sum()>0]"
   ]
  },
  {
   "cell_type": "code",
   "execution_count": 55,
   "id": "79aa73c9",
   "metadata": {},
   "outputs": [
    {
     "data": {
      "text/plain": [
       "Series([], dtype: int64)"
      ]
     },
     "execution_count": 55,
     "metadata": {},
     "output_type": "execute_result"
    }
   ],
   "source": [
    "count_missing_values(data)"
   ]
  },
  {
   "cell_type": "code",
   "execution_count": 56,
   "id": "59f36d1d",
   "metadata": {},
   "outputs": [],
   "source": [
    "# Sample definition and preparation ---------------------------------------\n",
    "\n",
    "# We focus on 2-6 person places\n",
    "data = data.query('n_accommodates < 7 & n_accommodates>1')"
   ]
  },
  {
   "cell_type": "code",
   "execution_count": 57,
   "id": "75a8104b",
   "metadata": {},
   "outputs": [],
   "source": [
    "# copy a variable - purpose later, see at variable importance\n",
    "data = data.assign(n_accommodates_copy = data.n_accommodates)"
   ]
  },
  {
   "cell_type": "code",
   "execution_count": 58,
   "id": "22b72277",
   "metadata": {},
   "outputs": [
    {
     "data": {
      "text/html": [
       "<div>\n",
       "<style scoped>\n",
       "    .dataframe tbody tr th:only-of-type {\n",
       "        vertical-align: middle;\n",
       "    }\n",
       "\n",
       "    .dataframe tbody tr th {\n",
       "        vertical-align: top;\n",
       "    }\n",
       "\n",
       "    .dataframe thead th {\n",
       "        text-align: right;\n",
       "    }\n",
       "</style>\n",
       "<table border=\"1\" class=\"dataframe\">\n",
       "  <thead>\n",
       "    <tr style=\"text-align: right;\">\n",
       "      <th></th>\n",
       "      <th>Unnamed: 0</th>\n",
       "      <th>n_days_since</th>\n",
       "      <th>n_accommodates</th>\n",
       "      <th>n_beds</th>\n",
       "      <th>n_minimum_nights</th>\n",
       "      <th>n_number_of_reviews</th>\n",
       "      <th>n_review_scores_rating</th>\n",
       "      <th>n_reviews_per_month</th>\n",
       "      <th>id</th>\n",
       "      <th>price2</th>\n",
       "      <th>...</th>\n",
       "      <th>flag_review_scores_rating</th>\n",
       "      <th>flag_reviews_per_month</th>\n",
       "      <th>flag_n_number_of_reviews</th>\n",
       "      <th>ln_days_since</th>\n",
       "      <th>ln_days_since2</th>\n",
       "      <th>ln_days_since3</th>\n",
       "      <th>n_days_since2</th>\n",
       "      <th>n_days_since3</th>\n",
       "      <th>ln_review_scores_rating</th>\n",
       "      <th>n_accommodates_copy</th>\n",
       "    </tr>\n",
       "  </thead>\n",
       "  <tbody>\n",
       "    <tr>\n",
       "      <th>count</th>\n",
       "      <td>6504.000000</td>\n",
       "      <td>6504.000000</td>\n",
       "      <td>6504.000000</td>\n",
       "      <td>6504.000000</td>\n",
       "      <td>6504.000000</td>\n",
       "      <td>6504.000000</td>\n",
       "      <td>6504.000000</td>\n",
       "      <td>6504.000000</td>\n",
       "      <td>6.504000e+03</td>\n",
       "      <td>6504.000000</td>\n",
       "      <td>...</td>\n",
       "      <td>6504.0</td>\n",
       "      <td>6504.0</td>\n",
       "      <td>6504.0</td>\n",
       "      <td>6504.000000</td>\n",
       "      <td>6504.000000</td>\n",
       "      <td>6504.000000</td>\n",
       "      <td>6.504000e+03</td>\n",
       "      <td>6.504000e+03</td>\n",
       "      <td>6504.000000</td>\n",
       "      <td>6504.000000</td>\n",
       "    </tr>\n",
       "    <tr>\n",
       "      <th>mean</th>\n",
       "      <td>7625.597632</td>\n",
       "      <td>1175.422509</td>\n",
       "      <td>3.057349</td>\n",
       "      <td>1.790602</td>\n",
       "      <td>6.120541</td>\n",
       "      <td>57.704490</td>\n",
       "      <td>4.621645</td>\n",
       "      <td>1.519717</td>\n",
       "      <td>2.755490e+07</td>\n",
       "      <td>62.246771</td>\n",
       "      <td>...</td>\n",
       "      <td>0.0</td>\n",
       "      <td>0.0</td>\n",
       "      <td>0.0</td>\n",
       "      <td>6.659623</td>\n",
       "      <td>45.746862</td>\n",
       "      <td>320.509738</td>\n",
       "      <td>1.983628e+06</td>\n",
       "      <td>3.974277e+09</td>\n",
       "      <td>-inf</td>\n",
       "      <td>3.057349</td>\n",
       "    </tr>\n",
       "    <tr>\n",
       "      <th>std</th>\n",
       "      <td>4972.173949</td>\n",
       "      <td>775.952686</td>\n",
       "      <td>1.197645</td>\n",
       "      <td>0.907181</td>\n",
       "      <td>33.447974</td>\n",
       "      <td>84.563481</td>\n",
       "      <td>0.467449</td>\n",
       "      <td>1.648654</td>\n",
       "      <td>1.496690e+07</td>\n",
       "      <td>23.019882</td>\n",
       "      <td>...</td>\n",
       "      <td>0.0</td>\n",
       "      <td>0.0</td>\n",
       "      <td>0.0</td>\n",
       "      <td>1.181734</td>\n",
       "      <td>13.554089</td>\n",
       "      <td>124.118718</td>\n",
       "      <td>2.246171e+06</td>\n",
       "      <td>6.559185e+09</td>\n",
       "      <td>NaN</td>\n",
       "      <td>1.197645</td>\n",
       "    </tr>\n",
       "    <tr>\n",
       "      <th>min</th>\n",
       "      <td>0.000000</td>\n",
       "      <td>1.000000</td>\n",
       "      <td>2.000000</td>\n",
       "      <td>1.000000</td>\n",
       "      <td>1.000000</td>\n",
       "      <td>1.000000</td>\n",
       "      <td>0.000000</td>\n",
       "      <td>0.010000</td>\n",
       "      <td>6.369000e+03</td>\n",
       "      <td>9.000000</td>\n",
       "      <td>...</td>\n",
       "      <td>0.0</td>\n",
       "      <td>0.0</td>\n",
       "      <td>0.0</td>\n",
       "      <td>0.693147</td>\n",
       "      <td>0.480453</td>\n",
       "      <td>0.333025</td>\n",
       "      <td>1.000000e+00</td>\n",
       "      <td>1.000000e+00</td>\n",
       "      <td>-inf</td>\n",
       "      <td>2.000000</td>\n",
       "    </tr>\n",
       "    <tr>\n",
       "      <th>25%</th>\n",
       "      <td>3311.750000</td>\n",
       "      <td>651.000000</td>\n",
       "      <td>2.000000</td>\n",
       "      <td>1.000000</td>\n",
       "      <td>1.000000</td>\n",
       "      <td>5.000000</td>\n",
       "      <td>4.500000</td>\n",
       "      <td>0.300000</td>\n",
       "      <td>1.622460e+07</td>\n",
       "      <td>45.000000</td>\n",
       "      <td>...</td>\n",
       "      <td>0.0</td>\n",
       "      <td>0.0</td>\n",
       "      <td>0.0</td>\n",
       "      <td>6.480045</td>\n",
       "      <td>41.990978</td>\n",
       "      <td>272.103406</td>\n",
       "      <td>4.238010e+05</td>\n",
       "      <td>2.758945e+08</td>\n",
       "      <td>1.504077</td>\n",
       "      <td>2.000000</td>\n",
       "    </tr>\n",
       "    <tr>\n",
       "      <th>50%</th>\n",
       "      <td>6988.500000</td>\n",
       "      <td>1107.000000</td>\n",
       "      <td>3.000000</td>\n",
       "      <td>2.000000</td>\n",
       "      <td>2.000000</td>\n",
       "      <td>22.000000</td>\n",
       "      <td>4.730000</td>\n",
       "      <td>0.980000</td>\n",
       "      <td>2.719237e+07</td>\n",
       "      <td>63.000000</td>\n",
       "      <td>...</td>\n",
       "      <td>0.0</td>\n",
       "      <td>0.0</td>\n",
       "      <td>0.0</td>\n",
       "      <td>7.010312</td>\n",
       "      <td>49.144472</td>\n",
       "      <td>344.518079</td>\n",
       "      <td>1.225449e+06</td>\n",
       "      <td>1.356572e+09</td>\n",
       "      <td>1.553925</td>\n",
       "      <td>3.000000</td>\n",
       "    </tr>\n",
       "    <tr>\n",
       "      <th>75%</th>\n",
       "      <td>11856.250000</td>\n",
       "      <td>1665.000000</td>\n",
       "      <td>4.000000</td>\n",
       "      <td>2.000000</td>\n",
       "      <td>3.000000</td>\n",
       "      <td>75.000000</td>\n",
       "      <td>4.900000</td>\n",
       "      <td>2.200000</td>\n",
       "      <td>4.019126e+07</td>\n",
       "      <td>80.000000</td>\n",
       "      <td>...</td>\n",
       "      <td>0.0</td>\n",
       "      <td>0.0</td>\n",
       "      <td>0.0</td>\n",
       "      <td>7.418181</td>\n",
       "      <td>55.029407</td>\n",
       "      <td>408.218090</td>\n",
       "      <td>2.772225e+06</td>\n",
       "      <td>4.615755e+09</td>\n",
       "      <td>1.589235</td>\n",
       "      <td>4.000000</td>\n",
       "    </tr>\n",
       "    <tr>\n",
       "      <th>max</th>\n",
       "      <td>17554.000000</td>\n",
       "      <td>3910.000000</td>\n",
       "      <td>6.000000</td>\n",
       "      <td>8.000000</td>\n",
       "      <td>1125.000000</td>\n",
       "      <td>758.000000</td>\n",
       "      <td>5.000000</td>\n",
       "      <td>24.590000</td>\n",
       "      <td>5.313910e+07</td>\n",
       "      <td>105.000000</td>\n",
       "      <td>...</td>\n",
       "      <td>0.0</td>\n",
       "      <td>0.0</td>\n",
       "      <td>0.0</td>\n",
       "      <td>8.271548</td>\n",
       "      <td>68.418513</td>\n",
       "      <td>565.927036</td>\n",
       "      <td>1.528810e+07</td>\n",
       "      <td>5.977647e+10</td>\n",
       "      <td>1.609438</td>\n",
       "      <td>6.000000</td>\n",
       "    </tr>\n",
       "  </tbody>\n",
       "</table>\n",
       "<p>8 rows × 29 columns</p>\n",
       "</div>"
      ],
      "text/plain": [
       "         Unnamed: 0  n_days_since  n_accommodates       n_beds  \\\n",
       "count   6504.000000   6504.000000     6504.000000  6504.000000   \n",
       "mean    7625.597632   1175.422509        3.057349     1.790602   \n",
       "std     4972.173949    775.952686        1.197645     0.907181   \n",
       "min        0.000000      1.000000        2.000000     1.000000   \n",
       "25%     3311.750000    651.000000        2.000000     1.000000   \n",
       "50%     6988.500000   1107.000000        3.000000     2.000000   \n",
       "75%    11856.250000   1665.000000        4.000000     2.000000   \n",
       "max    17554.000000   3910.000000        6.000000     8.000000   \n",
       "\n",
       "       n_minimum_nights  n_number_of_reviews  n_review_scores_rating  \\\n",
       "count       6504.000000          6504.000000             6504.000000   \n",
       "mean           6.120541            57.704490                4.621645   \n",
       "std           33.447974            84.563481                0.467449   \n",
       "min            1.000000             1.000000                0.000000   \n",
       "25%            1.000000             5.000000                4.500000   \n",
       "50%            2.000000            22.000000                4.730000   \n",
       "75%            3.000000            75.000000                4.900000   \n",
       "max         1125.000000           758.000000                5.000000   \n",
       "\n",
       "       n_reviews_per_month            id       price2  ...  \\\n",
       "count          6504.000000  6.504000e+03  6504.000000  ...   \n",
       "mean              1.519717  2.755490e+07    62.246771  ...   \n",
       "std               1.648654  1.496690e+07    23.019882  ...   \n",
       "min               0.010000  6.369000e+03     9.000000  ...   \n",
       "25%               0.300000  1.622460e+07    45.000000  ...   \n",
       "50%               0.980000  2.719237e+07    63.000000  ...   \n",
       "75%               2.200000  4.019126e+07    80.000000  ...   \n",
       "max              24.590000  5.313910e+07   105.000000  ...   \n",
       "\n",
       "       flag_review_scores_rating  flag_reviews_per_month  \\\n",
       "count                     6504.0                  6504.0   \n",
       "mean                         0.0                     0.0   \n",
       "std                          0.0                     0.0   \n",
       "min                          0.0                     0.0   \n",
       "25%                          0.0                     0.0   \n",
       "50%                          0.0                     0.0   \n",
       "75%                          0.0                     0.0   \n",
       "max                          0.0                     0.0   \n",
       "\n",
       "       flag_n_number_of_reviews  ln_days_since  ln_days_since2  \\\n",
       "count                    6504.0    6504.000000     6504.000000   \n",
       "mean                        0.0       6.659623       45.746862   \n",
       "std                         0.0       1.181734       13.554089   \n",
       "min                         0.0       0.693147        0.480453   \n",
       "25%                         0.0       6.480045       41.990978   \n",
       "50%                         0.0       7.010312       49.144472   \n",
       "75%                         0.0       7.418181       55.029407   \n",
       "max                         0.0       8.271548       68.418513   \n",
       "\n",
       "       ln_days_since3  n_days_since2  n_days_since3  ln_review_scores_rating  \\\n",
       "count     6504.000000   6.504000e+03   6.504000e+03              6504.000000   \n",
       "mean       320.509738   1.983628e+06   3.974277e+09                     -inf   \n",
       "std        124.118718   2.246171e+06   6.559185e+09                      NaN   \n",
       "min          0.333025   1.000000e+00   1.000000e+00                     -inf   \n",
       "25%        272.103406   4.238010e+05   2.758945e+08                 1.504077   \n",
       "50%        344.518079   1.225449e+06   1.356572e+09                 1.553925   \n",
       "75%        408.218090   2.772225e+06   4.615755e+09                 1.589235   \n",
       "max        565.927036   1.528810e+07   5.977647e+10                 1.609438   \n",
       "\n",
       "       n_accommodates_copy  \n",
       "count          6504.000000  \n",
       "mean              3.057349  \n",
       "std               1.197645  \n",
       "min               2.000000  \n",
       "25%               2.000000  \n",
       "50%               3.000000  \n",
       "75%               4.000000  \n",
       "max               6.000000  \n",
       "\n",
       "[8 rows x 29 columns]"
      ]
     },
     "execution_count": 58,
     "metadata": {},
     "output_type": "execute_result"
    }
   ],
   "source": [
    "data.describe()"
   ]
  },
  {
   "cell_type": "code",
   "execution_count": 9,
   "id": "428890fc",
   "metadata": {},
   "outputs": [],
   "source": [
    "data_train, data_holdout = train_test_split(data,train_size=0.7, random_state=42)"
   ]
  },
  {
   "cell_type": "code",
   "execution_count": 59,
   "id": "180e4db7",
   "metadata": {},
   "outputs": [],
   "source": [
    "data.drop(columns=['neighbourhood_cleansed', 'room_type', 'property_type', 'f_property_type',\n",
    "                  'f_room_type2', 'f_neighbourhood_cleansed', 'f_neighbourhood_group_cleansed',\n",
    "                 'id','price'], axis=1, inplace=True)"
   ]
  },
  {
   "cell_type": "code",
   "execution_count": 60,
   "id": "f9b93f17",
   "metadata": {},
   "outputs": [],
   "source": [
    "data['f_room_type'] = (data['f_room_type'] == 'Entire home/apt').astype(int)"
   ]
  },
  {
   "cell_type": "code",
   "execution_count": null,
   "id": "9471d130",
   "metadata": {},
   "outputs": [],
   "source": []
  },
  {
   "cell_type": "code",
   "execution_count": null,
   "id": "ddcf723b",
   "metadata": {},
   "outputs": [],
   "source": []
  },
  {
   "cell_type": "code",
   "execution_count": null,
   "id": "a452ee65",
   "metadata": {},
   "outputs": [],
   "source": []
  },
  {
   "cell_type": "code",
   "execution_count": 10,
   "id": "b6dcb3f6",
   "metadata": {},
   "outputs": [
    {
     "data": {
      "text/plain": [
       "((4552, 37), (1952, 37))"
      ]
     },
     "execution_count": 10,
     "metadata": {},
     "output_type": "execute_result"
    }
   ],
   "source": [
    "data_train.shape, data_holdout.shape"
   ]
  },
  {
   "cell_type": "code",
   "execution_count": 61,
   "id": "759dba4c",
   "metadata": {},
   "outputs": [],
   "source": [
    "# Basic Variables inc neighnourhood\n",
    "basic_vars = [\n",
    "    \"n_accommodates\",\n",
    "    \"n_beds\",\n",
    "    \"n_days_since\",\n",
    "    \"f_property_type\",\n",
    "    \"f_room_type\",\n",
    "    \"f_neighbourhood_cleansed\",\n",
    "]\n",
    "\n",
    "# reviews\n",
    "reviews = [\n",
    "    \"n_number_of_reviews\",\n",
    "    \"flag_n_number_of_reviews\",\n",
    "    \"n_review_scores_rating\",\n",
    "    \"flag_review_scores_rating\",\n",
    "]\n",
    "\n",
    "# Dummy variables\n",
    "amenities = [col for col in data if col.startswith(\"d_\")]\n",
    "\n",
    "# interactions for the LASSO\n",
    "# from ch14\n",
    "X1 = [\n",
    "    \"n_accommodates:f_property_type\",\n",
    "    \"f_room_type:f_property_type\",\n",
    "\n",
    "\n",
    "]\n",
    "# with boroughs\n",
    "X2 = [\n",
    "    \"f_property_type:f_neighbourhood_cleansed\",\n",
    "    \"f_room_type:f_neighbourhood_cleansed\",\n",
    "    \"n_accommodates:f_neighbourhood_cleansed\",\n",
    "]"
   ]
  },
  {
   "cell_type": "code",
   "execution_count": 18,
   "id": "64e2ac5e",
   "metadata": {},
   "outputs": [],
   "source": [
    "predictors_1 = basic_vars\n",
    "predictors_2 = basic_vars + reviews + amenities\n",
    "predictors_E = basic_vars + reviews + amenities + X1 + X2"
   ]
  },
  {
   "cell_type": "code",
   "execution_count": 20,
   "id": "41c31546",
   "metadata": {},
   "outputs": [],
   "source": [
    "#rfr = RangerForestRegressor(importance=\"impurity\",seed = 42)\n",
    "\n",
    "#tune_grid = {\"mtry\": [5, 7, 9], \"min_node_size\": [5, 10]}\n",
    "\n",
    "#rf_random = GridSearchCV(\n",
    "#    rfr,\n",
    "#    tune_grid,\n",
    "#    cv=5,\n",
    "#    scoring=\"neg_root_mean_squared_error\",\n",
    "#    verbose=3,\n",
    "#)\n",
    "\n",
    "#y, X = dmatrices(\"price ~ \" + \" + \".join(predictors_1), data_train)\n",
    "\n",
    "#rf_model_1 = rf_random.fit(X, y.ravel())"
   ]
  },
  {
   "cell_type": "code",
   "execution_count": 62,
   "id": "4b02b8ed",
   "metadata": {},
   "outputs": [],
   "source": [
    "X = data.drop(['price2','ln_review_scores_rating'], axis=1)  # i dropped ln_review_scores_rating as well because there is a inf and NaN that I couldnt figure out how it got there\n",
    "y = data['price2']  # target\n",
    "# data standard\n",
    "ss = StandardScaler()\n",
    "X_std = ss.fit_transform(X)\n",
    "\n",
    "# train test split\n",
    "X_train, X_test, y_train, y_test = train_test_split(X_std, y, test_size=0.2, random_state=42)"
   ]
  },
  {
   "cell_type": "code",
   "execution_count": 65,
   "id": "a7d48d04",
   "metadata": {},
   "outputs": [],
   "source": [
    "ols_model = LinearRegression().fit(X_train, y_train)\n",
    "y_hat = ols_model.predict(X_test)\n",
    "ols_rmse = mean_squared_error(y_test, y_hat, squared=False)"
   ]
  },
  {
   "cell_type": "code",
   "execution_count": 66,
   "id": "7a0680c6",
   "metadata": {},
   "outputs": [],
   "source": [
    "ols_model_coeffs_df = pd.DataFrame(\n",
    "    ols_model.coef_.tolist(),\n",
    "    index=X.columns,\n",
    "    columns=['ols_coefficient'],\n",
    ").assign(ols_coefficient=lambda x: x.ols_coefficient.round(3))\n",
    "ols_model_coeffs_df.sort_values('ols_coefficient', inplace=True, ascending=False)"
   ]
  },
  {
   "cell_type": "code",
   "execution_count": 74,
   "id": "3b514316",
   "metadata": {},
   "outputs": [],
   "source": [
    "def coef_matrix(X, model):\n",
    "\n",
    "    coef_matrix = pd.concat([pd.DataFrame(X.columns),pd.DataFrame(np.transpose(model.coef_))], axis = 1)\n",
    "    coef_matrix.columns = ['variable', 'coefficient']\n",
    "    coef_matrix = coef_matrix.append({'variable': 'Intercept', 'coefficient': np.asscalar(model.intercept_)}, ignore_index=True)\n",
    "    return(coef_matrix)"
   ]
  },
  {
   "cell_type": "code",
   "execution_count": 75,
   "id": "4758ce2f",
   "metadata": {},
   "outputs": [
    {
     "name": "stderr",
     "output_type": "stream",
     "text": [
      "<ipython-input-74-93486116f5a5>:5: DeprecationWarning: np.asscalar(a) is deprecated since NumPy v1.16, use a.item() instead\n"
     ]
    },
    {
     "data": {
      "text/html": [
       "<div>\n",
       "<style scoped>\n",
       "    .dataframe tbody tr th:only-of-type {\n",
       "        vertical-align: middle;\n",
       "    }\n",
       "\n",
       "    .dataframe tbody tr th {\n",
       "        vertical-align: top;\n",
       "    }\n",
       "\n",
       "    .dataframe thead th {\n",
       "        text-align: right;\n",
       "    }\n",
       "</style>\n",
       "<table border=\"1\" class=\"dataframe\">\n",
       "  <thead>\n",
       "    <tr style=\"text-align: right;\">\n",
       "      <th></th>\n",
       "      <th>variable</th>\n",
       "      <th>coefficient</th>\n",
       "    </tr>\n",
       "  </thead>\n",
       "  <tbody>\n",
       "    <tr>\n",
       "      <th>0</th>\n",
       "      <td>Unnamed: 0</td>\n",
       "      <td>-2.055930e-01</td>\n",
       "    </tr>\n",
       "    <tr>\n",
       "      <th>1</th>\n",
       "      <td>f_room_type</td>\n",
       "      <td>-1.002220e+00</td>\n",
       "    </tr>\n",
       "    <tr>\n",
       "      <th>2</th>\n",
       "      <td>n_days_since</td>\n",
       "      <td>7.052043e-01</td>\n",
       "    </tr>\n",
       "    <tr>\n",
       "      <th>3</th>\n",
       "      <td>n_accommodates</td>\n",
       "      <td>-2.817897e+01</td>\n",
       "    </tr>\n",
       "    <tr>\n",
       "      <th>4</th>\n",
       "      <td>n_beds</td>\n",
       "      <td>7.681959e-01</td>\n",
       "    </tr>\n",
       "    <tr>\n",
       "      <th>5</th>\n",
       "      <td>n_minimum_nights</td>\n",
       "      <td>1.294324e-02</td>\n",
       "    </tr>\n",
       "    <tr>\n",
       "      <th>6</th>\n",
       "      <td>n_number_of_reviews</td>\n",
       "      <td>-1.766503e-04</td>\n",
       "    </tr>\n",
       "    <tr>\n",
       "      <th>7</th>\n",
       "      <td>n_review_scores_rating</td>\n",
       "      <td>8.018273e-02</td>\n",
       "    </tr>\n",
       "    <tr>\n",
       "      <th>8</th>\n",
       "      <td>n_reviews_per_month</td>\n",
       "      <td>-1.137888e-01</td>\n",
       "    </tr>\n",
       "    <tr>\n",
       "      <th>9</th>\n",
       "      <td>n_accommodates2</td>\n",
       "      <td>1.212819e+01</td>\n",
       "    </tr>\n",
       "    <tr>\n",
       "      <th>10</th>\n",
       "      <td>ln_accommodates</td>\n",
       "      <td>3.892057e+00</td>\n",
       "    </tr>\n",
       "    <tr>\n",
       "      <th>11</th>\n",
       "      <td>ln_accommodates2</td>\n",
       "      <td>4.185949e+01</td>\n",
       "    </tr>\n",
       "    <tr>\n",
       "      <th>12</th>\n",
       "      <td>ln_beds</td>\n",
       "      <td>-9.918823e-01</td>\n",
       "    </tr>\n",
       "    <tr>\n",
       "      <th>13</th>\n",
       "      <td>ln_number_of_reviews</td>\n",
       "      <td>-4.337795e-02</td>\n",
       "    </tr>\n",
       "    <tr>\n",
       "      <th>14</th>\n",
       "      <td>ln_price</td>\n",
       "      <td>2.249877e+01</td>\n",
       "    </tr>\n",
       "    <tr>\n",
       "      <th>15</th>\n",
       "      <td>f_number_of_reviews</td>\n",
       "      <td>-7.829186e-02</td>\n",
       "    </tr>\n",
       "    <tr>\n",
       "      <th>16</th>\n",
       "      <td>f_minimum_nights</td>\n",
       "      <td>-1.515253e-01</td>\n",
       "    </tr>\n",
       "    <tr>\n",
       "      <th>17</th>\n",
       "      <td>flag_days_since</td>\n",
       "      <td>2.717826e-13</td>\n",
       "    </tr>\n",
       "    <tr>\n",
       "      <th>18</th>\n",
       "      <td>flag_review_scores_rating</td>\n",
       "      <td>-4.796163e-14</td>\n",
       "    </tr>\n",
       "    <tr>\n",
       "      <th>19</th>\n",
       "      <td>flag_reviews_per_month</td>\n",
       "      <td>1.421085e-14</td>\n",
       "    </tr>\n",
       "    <tr>\n",
       "      <th>20</th>\n",
       "      <td>flag_n_number_of_reviews</td>\n",
       "      <td>-6.039613e-14</td>\n",
       "    </tr>\n",
       "    <tr>\n",
       "      <th>21</th>\n",
       "      <td>ln_days_since</td>\n",
       "      <td>-5.117418e+00</td>\n",
       "    </tr>\n",
       "    <tr>\n",
       "      <th>22</th>\n",
       "      <td>ln_days_since2</td>\n",
       "      <td>1.652133e+01</td>\n",
       "    </tr>\n",
       "    <tr>\n",
       "      <th>23</th>\n",
       "      <td>ln_days_since3</td>\n",
       "      <td>-1.281489e+01</td>\n",
       "    </tr>\n",
       "    <tr>\n",
       "      <th>24</th>\n",
       "      <td>n_days_since2</td>\n",
       "      <td>1.578614e+00</td>\n",
       "    </tr>\n",
       "    <tr>\n",
       "      <th>25</th>\n",
       "      <td>n_days_since3</td>\n",
       "      <td>-1.111862e+00</td>\n",
       "    </tr>\n",
       "    <tr>\n",
       "      <th>26</th>\n",
       "      <td>n_accommodates_copy</td>\n",
       "      <td>-2.817897e+01</td>\n",
       "    </tr>\n",
       "    <tr>\n",
       "      <th>27</th>\n",
       "      <td>Intercept</td>\n",
       "      <td>6.226921e+01</td>\n",
       "    </tr>\n",
       "  </tbody>\n",
       "</table>\n",
       "</div>"
      ],
      "text/plain": [
       "                     variable   coefficient\n",
       "0                  Unnamed: 0 -2.055930e-01\n",
       "1                 f_room_type -1.002220e+00\n",
       "2                n_days_since  7.052043e-01\n",
       "3              n_accommodates -2.817897e+01\n",
       "4                      n_beds  7.681959e-01\n",
       "5            n_minimum_nights  1.294324e-02\n",
       "6         n_number_of_reviews -1.766503e-04\n",
       "7      n_review_scores_rating  8.018273e-02\n",
       "8         n_reviews_per_month -1.137888e-01\n",
       "9             n_accommodates2  1.212819e+01\n",
       "10            ln_accommodates  3.892057e+00\n",
       "11           ln_accommodates2  4.185949e+01\n",
       "12                    ln_beds -9.918823e-01\n",
       "13       ln_number_of_reviews -4.337795e-02\n",
       "14                   ln_price  2.249877e+01\n",
       "15        f_number_of_reviews -7.829186e-02\n",
       "16           f_minimum_nights -1.515253e-01\n",
       "17            flag_days_since  2.717826e-13\n",
       "18  flag_review_scores_rating -4.796163e-14\n",
       "19     flag_reviews_per_month  1.421085e-14\n",
       "20   flag_n_number_of_reviews -6.039613e-14\n",
       "21              ln_days_since -5.117418e+00\n",
       "22             ln_days_since2  1.652133e+01\n",
       "23             ln_days_since3 -1.281489e+01\n",
       "24              n_days_since2  1.578614e+00\n",
       "25              n_days_since3 -1.111862e+00\n",
       "26        n_accommodates_copy -2.817897e+01\n",
       "27                  Intercept  6.226921e+01"
      ]
     },
     "execution_count": 75,
     "metadata": {},
     "output_type": "execute_result"
    }
   ],
   "source": [
    "coef_matrix(X,ols_model)"
   ]
  },
  {
   "cell_type": "code",
   "execution_count": 78,
   "id": "01b4493a",
   "metadata": {},
   "outputs": [],
   "source": [
    "# cross validation\n",
    "ols_model = LinearRegression()\n",
    "ols_cv_mse = cross_val_score(ols_model, X_std, y, cv=5, scoring='neg_mean_squared_error')\n",
    "ols_cv_rmse = [np.sqrt(-x) for x in ols_cv_mse]"
   ]
  },
  {
   "cell_type": "code",
   "execution_count": 79,
   "id": "d8457f43",
   "metadata": {},
   "outputs": [
    {
     "data": {
      "text/plain": [
       "[6.411472940403095,\n",
       " 5.389003294936061,\n",
       " 5.65552699093339,\n",
       " 5.205390363655844,\n",
       " 5.408908745311558]"
      ]
     },
     "execution_count": 79,
     "metadata": {},
     "output_type": "execute_result"
    }
   ],
   "source": [
    "ols_cv_rmse"
   ]
  },
  {
   "cell_type": "code",
   "execution_count": 80,
   "id": "737777c4",
   "metadata": {},
   "outputs": [],
   "source": [
    "lasso_model = Lasso(alpha=0.5).fit(X_train, y_train)\n",
    "y_hat = lasso_model.predict(X_test)\n",
    "lasso_rmse = mean_squared_error(y_test, y_hat, squared=False)"
   ]
  },
  {
   "cell_type": "code",
   "execution_count": 81,
   "id": "ba8c5f71",
   "metadata": {},
   "outputs": [],
   "source": [
    "# cross validation\n",
    "lasso_model = Lasso(alpha=0.5)\n",
    "lasso_cv_mse = cross_val_score(lasso_model, X_std, y, cv=5, scoring='neg_mean_squared_error')\n",
    "lasso_cv_rmse = [np.sqrt(-x) for x in lasso_cv_mse]"
   ]
  },
  {
   "cell_type": "code",
   "execution_count": 82,
   "id": "7840e6c4",
   "metadata": {},
   "outputs": [
    {
     "data": {
      "text/plain": [
       "[5.592685336457046,\n",
       " 5.4845522243593825,\n",
       " 5.710252707850093,\n",
       " 5.304981450220126,\n",
       " 5.466187005493391]"
      ]
     },
     "execution_count": 82,
     "metadata": {},
     "output_type": "execute_result"
    }
   ],
   "source": [
    "lasso_cv_rmse"
   ]
  },
  {
   "cell_type": "code",
   "execution_count": 83,
   "id": "73693dd8",
   "metadata": {},
   "outputs": [
    {
     "ename": "NameError",
     "evalue": "name 'DecisionTreeRegressor' is not defined",
     "output_type": "error",
     "traceback": [
      "\u001b[0;31m---------------------------------------------------------------------------\u001b[0m",
      "\u001b[0;31mNameError\u001b[0m                                 Traceback (most recent call last)",
      "\u001b[0;32m<ipython-input-83-e12dae07aad9>\u001b[0m in \u001b[0;36m<module>\u001b[0;34m\u001b[0m\n\u001b[0;32m----> 1\u001b[0;31m \u001b[0mcart_model\u001b[0m \u001b[0;34m=\u001b[0m \u001b[0mDecisionTreeRegressor\u001b[0m\u001b[0;34m(\u001b[0m\u001b[0;34m)\u001b[0m\u001b[0;34m.\u001b[0m\u001b[0mfit\u001b[0m\u001b[0;34m(\u001b[0m\u001b[0mX_train\u001b[0m\u001b[0;34m,\u001b[0m \u001b[0my_train\u001b[0m\u001b[0;34m)\u001b[0m\u001b[0;34m\u001b[0m\u001b[0;34m\u001b[0m\u001b[0m\n\u001b[0m\u001b[1;32m      2\u001b[0m \u001b[0my_hat\u001b[0m \u001b[0;34m=\u001b[0m \u001b[0mcart_model\u001b[0m\u001b[0;34m.\u001b[0m\u001b[0mpredict\u001b[0m\u001b[0;34m(\u001b[0m\u001b[0mX_test\u001b[0m\u001b[0;34m)\u001b[0m\u001b[0;34m\u001b[0m\u001b[0;34m\u001b[0m\u001b[0m\n\u001b[1;32m      3\u001b[0m \u001b[0mcart_rmse\u001b[0m \u001b[0;34m=\u001b[0m \u001b[0mmean_squared_error\u001b[0m\u001b[0;34m(\u001b[0m\u001b[0my_test\u001b[0m\u001b[0;34m,\u001b[0m \u001b[0my_hat\u001b[0m\u001b[0;34m,\u001b[0m \u001b[0msquared\u001b[0m\u001b[0;34m=\u001b[0m\u001b[0;32mFalse\u001b[0m\u001b[0;34m)\u001b[0m\u001b[0;34m\u001b[0m\u001b[0;34m\u001b[0m\u001b[0m\n",
      "\u001b[0;31mNameError\u001b[0m: name 'DecisionTreeRegressor' is not defined"
     ]
    }
   ],
   "source": [
    "cart_model = DecisionTreeRegressor().fit(X_train, y_train)\n",
    "y_hat = cart_model.predict(X_test)\n",
    "cart_rmse = mean_squared_error(y_test, y_hat, squared=False)"
   ]
  },
  {
   "cell_type": "code",
   "execution_count": 85,
   "id": "dc8f92a9",
   "metadata": {},
   "outputs": [],
   "source": [
    "# cross validation\n",
    "cart_model = DecisionTreeRegressor()\n",
    "cart_cv_mse = cross_val_score(cart_model, X_std, y, cv=5, scoring='neg_mean_squared_error')\n",
    "cart_cv_rmse = [np.sqrt(-x) for x in cart_cv_mse]"
   ]
  },
  {
   "cell_type": "code",
   "execution_count": 86,
   "id": "7af79c6d",
   "metadata": {},
   "outputs": [
    {
     "data": {
      "text/plain": [
       "[0.04801998046867725, 0.03920814986889116, 0.02772434865007138, 0.0, 0.0]"
      ]
     },
     "execution_count": 86,
     "metadata": {},
     "output_type": "execute_result"
    }
   ],
   "source": [
    "cart_cv_rmse"
   ]
  },
  {
   "cell_type": "code",
   "execution_count": 89,
   "id": "650b777c",
   "metadata": {},
   "outputs": [],
   "source": [
    "gbm_model = GradientBoostingRegressor().fit(X_train, y_train)\n",
    "y_hat = gbm_model.predict(X_test)\n",
    "gbm_rmse = mean_squared_error(y_test, y_hat, squared=False)"
   ]
  },
  {
   "cell_type": "code",
   "execution_count": 90,
   "id": "71d86764",
   "metadata": {},
   "outputs": [],
   "source": [
    "# cross validation\n",
    "gbm_model = GradientBoostingRegressor()\n",
    "gbm_cv_mse = cross_val_score(gbm_model, X_std, y, cv=5, scoring='neg_mean_squared_error')\n",
    "gbm_cv_rmse = [np.sqrt(-x) for x in gbm_cv_mse]"
   ]
  },
  {
   "cell_type": "code",
   "execution_count": 91,
   "id": "7de69098",
   "metadata": {},
   "outputs": [
    {
     "data": {
      "text/plain": [
       "[0.021834533221382242,\n",
       " 0.027382827870295345,\n",
       " 0.023115591935100627,\n",
       " 0.024378670377395974,\n",
       " 0.026266897281823964]"
      ]
     },
     "execution_count": 91,
     "metadata": {},
     "output_type": "execute_result"
    }
   ],
   "source": [
    "gbm_cv_rmse"
   ]
  },
  {
   "cell_type": "code",
   "execution_count": null,
   "id": "0b5362c0",
   "metadata": {},
   "outputs": [],
   "source": []
  }
 ],
 "metadata": {
  "kernelspec": {
   "display_name": "Python 3",
   "language": "python",
   "name": "python3"
  },
  "language_info": {
   "codemirror_mode": {
    "name": "ipython",
    "version": 3
   },
   "file_extension": ".py",
   "mimetype": "text/x-python",
   "name": "python",
   "nbconvert_exporter": "python",
   "pygments_lexer": "ipython3",
   "version": "3.8.8"
  }
 },
 "nbformat": 4,
 "nbformat_minor": 5
}
