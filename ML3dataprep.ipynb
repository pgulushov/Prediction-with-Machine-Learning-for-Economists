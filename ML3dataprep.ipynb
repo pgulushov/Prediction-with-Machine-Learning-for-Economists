{
 "cells": [
  {
   "cell_type": "code",
   "execution_count": null,
   "id": "02353b85",
   "metadata": {},
   "outputs": [],
   "source": []
  },
  {
   "cell_type": "code",
   "execution_count": 49,
   "id": "87cf559e",
   "metadata": {},
   "outputs": [
    {
     "name": "stdout",
     "output_type": "stream",
     "text": [
      "Requirement already satisfied: scikit-misc in c:\\users\\99450\\anaconda\\lib\\site-packages (0.1.4)\n",
      "Requirement already satisfied: numpy in c:\\users\\99450\\anaconda\\lib\\site-packages (from scikit-misc) (1.20.1)\n",
      "Note: you may need to restart the kernel to use updated packages.\n"
     ]
    }
   ],
   "source": [
    "pip install scikit-misc"
   ]
  },
  {
   "cell_type": "code",
   "execution_count": 100,
   "id": "d6b29b85",
   "metadata": {},
   "outputs": [],
   "source": [
    "import pandas as pd\n",
    "import numpy as np\n",
    "from plotnine import *\n",
    "import patsy\n",
    "from sklearn.model_selection import train_test_split, KFold, GridSearchCV\n",
    "from sklearn.linear_model import LogisticRegressionCV\n",
    "import sklearn.metrics as metrics\n",
    "from sklearn.metrics import confusion_matrix, roc_curve, mean_squared_error, roc_auc_score\n",
    "from sklearn.ensemble import RandomForestClassifier, GradientBoostingClassifier\n",
    "import statsmodels.formula.api as smf\n",
    "from py_helper_functions import *"
   ]
  },
  {
   "cell_type": "code",
   "execution_count": 101,
   "id": "16885b19",
   "metadata": {},
   "outputs": [],
   "source": [
    "data=pd.read_csv('cs_bisnode_panel.csv')"
   ]
  },
  {
   "cell_type": "code",
   "execution_count": 96,
   "id": "6d9632e8",
   "metadata": {},
   "outputs": [],
   "source": []
  },
  {
   "cell_type": "code",
   "execution_count": 102,
   "id": "4b7e0d8d",
   "metadata": {},
   "outputs": [
    {
     "data": {
      "text/plain": [
       "COGS                 269572\n",
       "amort                  8040\n",
       "curr_assets             131\n",
       "curr_liab               131\n",
       "extra_exp             18529\n",
       "extra_inc             18529\n",
       "extra_profit_loss     17203\n",
       "finished_prod        270344\n",
       "fixed_assets            131\n",
       "inc_bef_tax            7437\n",
       "intang_assets           140\n",
       "inventories             131\n",
       "liq_assets              131\n",
       "material_exp           8040\n",
       "net_dom_sales        269572\n",
       "net_exp_sales        269572\n",
       "personnel_exp          8040\n",
       "profit_loss_year       9884\n",
       "sales                  7437\n",
       "share_eq                131\n",
       "subscribed_cap          131\n",
       "tang_assets            1470\n",
       "wages                269846\n",
       "D                    287829\n",
       "founded_year          56457\n",
       "exit_year            248970\n",
       "ceo_count             56427\n",
       "foreign               56427\n",
       "female                56427\n",
       "birth_year           111818\n",
       "inoffice_days         56427\n",
       "gender                56427\n",
       "origin                56427\n",
       "nace_main              1038\n",
       "ind2                   1038\n",
       "ind                    9769\n",
       "region_m                840\n",
       "founded_date             51\n",
       "exit_date            231649\n",
       "labor_avg            146532\n",
       "dtype: int64"
      ]
     },
     "execution_count": 102,
     "metadata": {},
     "output_type": "execute_result"
    }
   ],
   "source": [
    "to_filter=data.isna().sum()\n",
    "to_filter[to_filter > 0]"
   ]
  },
  {
   "cell_type": "code",
   "execution_count": 103,
   "id": "65416fdb",
   "metadata": {},
   "outputs": [],
   "source": [
    "#drop variables with too many NaN\n",
    "data = data.drop(columns = ['COGS', 'finished_prod', 'net_dom_sales', 'net_exp_sales', 'wages','D'])"
   ]
  },
  {
   "cell_type": "code",
   "execution_count": 104,
   "id": "5f1ed460",
   "metadata": {},
   "outputs": [],
   "source": [
    "data = data.query('year !=2016')"
   ]
  },
  {
   "cell_type": "code",
   "execution_count": 105,
   "id": "4e7a6080",
   "metadata": {},
   "outputs": [],
   "source": [
    "# add all missing year and comp_id combinations -\n",
    "# originally missing combinations will have NAs in all other columns\n",
    "data = data.set_index(['year','comp_id']).unstack(fill_value ='toReplace').stack().reset_index()\n",
    "data = data.replace('toReplace',np.nan) #only way I could define it as NaN"
   ]
  },
  {
   "cell_type": "code",
   "execution_count": 106,
   "id": "52381740",
   "metadata": {},
   "outputs": [
    {
     "data": {
      "text/plain": [
       "0         2005\n",
       "1         2005\n",
       "2         2005\n",
       "3         2005\n",
       "4         2005\n",
       "          ... \n",
       "510527    2015\n",
       "510528    2015\n",
       "510529    2015\n",
       "510530    2015\n",
       "510531    2015\n",
       "Name: year, Length: 510532, dtype: int64"
      ]
     },
     "execution_count": 106,
     "metadata": {},
     "output_type": "execute_result"
    }
   ],
   "source": [
    "data['year']"
   ]
  },
  {
   "cell_type": "code",
   "execution_count": 107,
   "id": "cde1df66",
   "metadata": {},
   "outputs": [],
   "source": [
    "# generate status_alive; if sales larger than zero and not-NA, then firm is alive\n",
    "data['status_alive'] = (data['sales'] > 0 & (False == data['sales'].isna())).astype(int)"
   ]
  },
  {
   "cell_type": "code",
   "execution_count": 108,
   "id": "676ffecf",
   "metadata": {},
   "outputs": [],
   "source": [
    "#define growth as quarter growth in a year\n",
    "data['growth'] = ((data['sales'] / data.groupby('comp_id')['sales'].shift(1)) >= 1.25).astype(int)\n"
   ]
  },
  {
   "cell_type": "code",
   "execution_count": 109,
   "id": "3715e12d",
   "metadata": {},
   "outputs": [],
   "source": [
    "data['fast_growth'] = ((data['status_alive'] == 1) & \n",
    "                       (data.groupby('comp_id')['status_alive'].shift(1) == 1) &\n",
    "                       (data['growth'] == 1)).astype(int)"
   ]
  },
  {
   "cell_type": "code",
   "execution_count": 110,
   "id": "94271603",
   "metadata": {},
   "outputs": [
    {
     "data": {
      "text/plain": [
       "count    510532.000000\n",
       "mean          0.103880\n",
       "std           0.305105\n",
       "min           0.000000\n",
       "25%           0.000000\n",
       "50%           0.000000\n",
       "75%           0.000000\n",
       "max           1.000000\n",
       "Name: fast_growth, dtype: float64"
      ]
     },
     "execution_count": 110,
     "metadata": {},
     "output_type": "execute_result"
    }
   ],
   "source": [
    "data.fast_growth.describe()"
   ]
  },
  {
   "cell_type": "code",
   "execution_count": 111,
   "id": "7484e945",
   "metadata": {},
   "outputs": [
    {
     "data": {
      "text/plain": [
       "count    2.706490e+05\n",
       "mean     4.877188e+05\n",
       "std      3.871007e+06\n",
       "min     -1.472559e+07\n",
       "25%      4.685185e+03\n",
       "50%      3.028889e+04\n",
       "75%      1.109185e+05\n",
       "max      1.110294e+08\n",
       "Name: sales, dtype: float64"
      ]
     },
     "execution_count": 111,
     "metadata": {},
     "output_type": "execute_result"
    }
   ],
   "source": [
    "data['sales'].describe()"
   ]
  },
  {
   "cell_type": "code",
   "execution_count": 112,
   "id": "d09f7c21",
   "metadata": {},
   "outputs": [],
   "source": [
    "data = data.query('year <= 2014')"
   ]
  },
  {
   "cell_type": "code",
   "execution_count": 113,
   "id": "62e63bae",
   "metadata": {},
   "outputs": [
    {
     "name": "stderr",
     "output_type": "stream",
     "text": [
      "C:\\Users\\99450\\anaconda\\lib\\site-packages\\pandas\\core\\arraylike.py:358: RuntimeWarning: divide by zero encountered in log\n",
      "C:\\Users\\99450\\anaconda\\lib\\site-packages\\pandas\\core\\arraylike.py:358: RuntimeWarning: divide by zero encountered in log\n"
     ]
    }
   ],
   "source": [
    "data['sales']=np.where(data['sales'] < 0, 1, data['sales'])#has to be outside of assin()\n",
    "data = data.assign(\n",
    "    ln_sales = np.where(data['sales'] > 0 , np.log(data['sales']), (np.where(data['sales'].isna(),np.nan,0))), #NaN remain NaN\n",
    "    sales_mil=data['sales']/1000000,\n",
    "    sales_mil_log = np.where(data['sales'] > 0, np.log(data['sales']/1000000), (np.where(data['sales'].isna(),np.nan,0)))\n",
    "  )"
   ]
  },
  {
   "cell_type": "code",
   "execution_count": 114,
   "id": "bcfb811e",
   "metadata": {},
   "outputs": [],
   "source": [
    "data['d1_sales_mil_log']=data['sales_mil_log']-data.groupby('comp_id')['sales_mil_log'].shift(1)"
   ]
  },
  {
   "cell_type": "code",
   "execution_count": 115,
   "id": "7a351522",
   "metadata": {},
   "outputs": [],
   "source": [
    "# replace w 0 for new firms + add dummy to capture it\n",
    "data['age']=np.where(data['year']-data['founded_year'] < 0, 0, data['year']-data['founded_year'])\n",
    "data['new']=np.where(((data['age']<=1)|(data['balsheet_notfullyear']==1)),1,(np.where(data['age'].isna(),np.nan,0))) \n",
    "data['d1_sales_mil_log']=np.where(data['new']==1 , 0, np.where(data['new'].isna(),np.nan,data['d1_sales_mil_log']))\n",
    "data['new']=np.where(data['d1_sales_mil_log'].isna(),1,data['new'] )\n",
    "data['d1_sales_mil_log']=np.where(data['d1_sales_mil_log'].isna(),0,data['d1_sales_mil_log'])"
   ]
  },
  {
   "cell_type": "code",
   "execution_count": 116,
   "id": "1efc1021",
   "metadata": {},
   "outputs": [
    {
     "data": {
      "text/plain": [
       "count    464120.000000\n",
       "mean          0.685790\n",
       "std           0.464201\n",
       "min           0.000000\n",
       "25%           0.000000\n",
       "50%           1.000000\n",
       "75%           1.000000\n",
       "max           1.000000\n",
       "Name: new, dtype: float64"
      ]
     },
     "execution_count": 116,
     "metadata": {},
     "output_type": "execute_result"
    }
   ],
   "source": [
    "data['new'].describe()"
   ]
  },
  {
   "cell_type": "code",
   "execution_count": 117,
   "id": "a27bfc28",
   "metadata": {},
   "outputs": [],
   "source": [
    "# look at cross section\n",
    "data=data.query('year==2014 & status_alive == 1')\n",
    "# look at firms below 10m euro revenues and above 1000 euros\n",
    "data=data.query('sales_mil<=10 & sales_mil>=0.001')"
   ]
  },
  {
   "cell_type": "code",
   "execution_count": 118,
   "id": "016fda21",
   "metadata": {},
   "outputs": [
    {
     "data": {
      "text/plain": [
       "417709    2014\n",
       "417710    2014\n",
       "417715    2014\n",
       "417716    2014\n",
       "417717    2014\n",
       "          ... \n",
       "464110    2014\n",
       "464112    2014\n",
       "464114    2014\n",
       "464115    2014\n",
       "464118    2014\n",
       "Name: year, Length: 21290, dtype: int64"
      ]
     },
     "execution_count": 118,
     "metadata": {},
     "output_type": "execute_result"
    }
   ],
   "source": [
    "data['year']"
   ]
  },
  {
   "cell_type": "code",
   "execution_count": 119,
   "id": "db1663e1",
   "metadata": {},
   "outputs": [],
   "source": [
    "# change some industry category codes\n",
    "data['ind2_cat']=data['ind2'].copy()\n",
    "data['ind2_cat']=np.where(data['ind2']>56,60,data['ind2_cat'])\n",
    "data['ind2_cat']=np.where(data['ind2']<26,20,data['ind2_cat'])\n",
    "data['ind2_cat']=np.where((data['ind2']<55)&(data['ind2']>35),40,data['ind2_cat'])\n",
    "data['ind2_cat']=np.where(data['ind2']==31,30,data['ind2_cat'])\n",
    "data['ind2_cat']=np.where(data['ind2'].isna(),99,data['ind2_cat'])"
   ]
  },
  {
   "cell_type": "code",
   "execution_count": 120,
   "id": "0bcedccf",
   "metadata": {},
   "outputs": [
    {
     "data": {
      "text/plain": [
       "ind2_cat\n",
       "20.0       54\n",
       "26.0     1037\n",
       "27.0      632\n",
       "28.0     1901\n",
       "29.0      275\n",
       "30.0      170\n",
       "32.0      126\n",
       "33.0     1961\n",
       "35.0        1\n",
       "40.0      209\n",
       "55.0     2337\n",
       "56.0    12342\n",
       "60.0      240\n",
       "99.0        5\n",
       "Name: comp_id, dtype: int64"
      ]
     },
     "execution_count": 120,
     "metadata": {},
     "output_type": "execute_result"
    }
   ],
   "source": [
    "data.groupby('ind2_cat').count()['comp_id']"
   ]
  },
  {
   "cell_type": "code",
   "execution_count": 121,
   "id": "4a4dfa1b",
   "metadata": {},
   "outputs": [],
   "source": [
    "# Firm characteristics\n",
    "data['age2'] = data['age']**2\n",
    "data['foreign_management'] = np.where(data['foreign'] >= 0.5, 1, np.where(data['foreign'].isna(), np.nan, 0))\n",
    "data['gender_m'] = data['gender'].astype(\"category\")\n",
    "data['m_region_loc'] = data['region_m'].astype(\"category\")"
   ]
  },
  {
   "cell_type": "code",
   "execution_count": 122,
   "id": "7e16900d",
   "metadata": {},
   "outputs": [
    {
     "data": {
      "text/plain": [
       "flag_asset_problem\n",
       "0.0    21271\n",
       "1.0        7\n",
       "Name: comp_id, dtype: int64"
      ]
     },
     "execution_count": 122,
     "metadata": {},
     "output_type": "execute_result"
    }
   ],
   "source": [
    "###########################################################\n",
    "# look at more financial variables, create ratios\n",
    "###########################################################\n",
    "\n",
    "# assets can't be negative. Change them to 0 and add a flag.\n",
    "data['flag_asset_problem'] = np.where(((data['intang_assets'] < 0) | (data['curr_assets'] < 0) | (data['fixed_assets'] < 0)), 1, 0)\n",
    "data['flag_asset_problem'] = np.where(((data['intang_assets'].isna()) | (data['curr_assets'].isna()) | (data['fixed_assets'].isna())), np.nan, data['flag_asset_problem'])\n",
    "data.groupby('flag_asset_problem').count()['comp_id']"
   ]
  },
  {
   "cell_type": "code",
   "execution_count": 123,
   "id": "a99146d4",
   "metadata": {},
   "outputs": [],
   "source": [
    "data['intang_assets'] = np.where(data['intang_assets'] < 0, 0, data['intang_assets'])\n",
    "data['curr_assets'] = np.where(data['curr_assets'] < 0, 0, data['curr_assets'])\n",
    "data['fixed_assets'] = np.where(data['fixed_assets'] < 0, 0, data['fixed_assets'])"
   ]
  },
  {
   "cell_type": "code",
   "execution_count": 124,
   "id": "05e533e6",
   "metadata": {},
   "outputs": [
    {
     "data": {
      "text/plain": [
       "count    2.127800e+04\n",
       "mean     3.068029e+05\n",
       "std      2.914499e+06\n",
       "min      0.000000e+00\n",
       "25%      8.888889e+03\n",
       "50%      3.007407e+04\n",
       "75%      1.168287e+05\n",
       "max      3.190691e+08\n",
       "Name: total_assets_bs, dtype: float64"
      ]
     },
     "execution_count": 124,
     "metadata": {},
     "output_type": "execute_result"
    }
   ],
   "source": [
    "# generate total assets\n",
    "data['total_assets_bs'] = data['intang_assets'] + data['curr_assets'] + data['fixed_assets']\n",
    "data['total_assets_bs'].describe()"
   ]
  },
  {
   "cell_type": "code",
   "execution_count": 125,
   "id": "05f8ce46",
   "metadata": {},
   "outputs": [],
   "source": [
    "pl_names = ['extra_exp','extra_inc',  'extra_profit_loss', 'inc_bef_tax' ,'inventories',\n",
    "              'material_exp', 'profit_loss_year', 'personnel_exp']\n",
    "bs_names = ['intang_assets', 'curr_liab', 'fixed_assets', 'liq_assets', 'curr_assets',\n",
    "              'share_eq', 'subscribed_cap', 'tang_assets' ]"
   ]
  },
  {
   "cell_type": "code",
   "execution_count": 126,
   "id": "01b94975",
   "metadata": {},
   "outputs": [],
   "source": [
    "# divide all pl_names elements by sales and create new column for it\n",
    "data[[col +'_pl' for col in pl_names]] = data[pl_names].div(data['sales'], axis='index')"
   ]
  },
  {
   "cell_type": "code",
   "execution_count": 127,
   "id": "e0a1080c",
   "metadata": {},
   "outputs": [],
   "source": [
    "# divide all bs_names elements by total_assets_bs and create new column for it\n",
    "data[[col +'_bs' for col in bs_names]] =  data[bs_names].div(data['total_assets_bs'], axis='index').replace((np.inf, -np.inf, np.nan), (0, 0, 0))\n",
    "# get Nan values where total_assets_bs is NaN\n",
    "for col in bs_names:\n",
    "    data[[col +'_bs']] = np.where(data['total_assets_bs'].isna(), np.nan, data[col +'_bs'])"
   ]
  },
  {
   "cell_type": "code",
   "execution_count": 128,
   "id": "7fef5d93",
   "metadata": {},
   "outputs": [],
   "source": [
    "########################################################################\n",
    "# creating flags, and winsorizing tails\n",
    "########################################################################\n",
    "\n",
    "# Variables that represent accounting items that cannot be negative (e.g. materials)\n",
    "zero = ['extra_exp_pl', 'extra_inc_pl', 'inventories_pl', 'material_exp_pl', 'personnel_exp_pl',\n",
    "           'curr_liab_bs', 'fixed_assets_bs', 'liq_assets_bs', 'curr_assets_bs', 'subscribed_cap_bs',\n",
    "           'intang_assets_bs']\n",
    "\n",
    "data[[col +'_flag_high' for col in zero]] = np.where(data[zero].isna(), np.nan, (data[zero] > 1).astype(int))\n",
    "data[[col for col in zero]] = np.where(data[zero].isna(), np.nan, np.where(data[zero] > 1, 1, data[zero]))\n",
    "data[[col +'_flag_error' for col in zero]] = np.where(data[zero].isna(), np.nan, (data[zero] < 0).astype(int))\n",
    "data[[col for col in zero]] = np.where(data[zero].isna(), np.nan, np.where(data[zero] < 0, 0, data[zero]))"
   ]
  },
  {
   "cell_type": "code",
   "execution_count": 129,
   "id": "10e0b7c9",
   "metadata": {},
   "outputs": [],
   "source": [
    "# for vars that could be any, but are mostly between -1 and 1\n",
    "anyof = ['extra_profit_loss_pl', 'inc_bef_tax_pl', 'profit_loss_year_pl', 'share_eq_bs']\n",
    "\n",
    "data[[col +'_flag_low' for col in anyof]] = np.where(data[anyof].isna(), np.nan, (data[anyof] < -1).astype(int))\n",
    "data[[col for col in anyof]] = np.where(data[anyof].isna(), np.nan, np.where((data[anyof] < -1), -1, data[anyof]))\n",
    "data[[col +'_flag_high' for col in anyof]] = np.where(data[anyof].isna(), np.nan, (data[anyof] > 1).astype(int))\n",
    "data[[col for col in anyof]] = np.where(data[anyof].isna(), np.nan, np.where((data[anyof] > 1), 1, data[anyof]))\n",
    "data[[col +'_flag_zero' for col in anyof]] = np.where(data[anyof].isna(), np.nan, (data[anyof] == 0).astype(int))\n",
    "data[[col +'_quad' for col in anyof]] = np.where(data[anyof].isna(), np.nan, data[anyof]**2)"
   ]
  },
  {
   "cell_type": "code",
   "execution_count": 130,
   "id": "f7546794",
   "metadata": {},
   "outputs": [],
   "source": [
    "# dropping flags with no variation\n",
    "flag_columns = [col for col in data.columns if 'flag' in col]\n",
    "data = data.drop(data[flag_columns].std()[(data[flag_columns].std() == 0)].index, axis=1)"
   ]
  },
  {
   "cell_type": "code",
   "execution_count": 131,
   "id": "3bbf9880",
   "metadata": {},
   "outputs": [],
   "source": [
    "########################################################################\n",
    "# additional\n",
    "# including some imputation\n",
    "########################################################################\n",
    "\n",
    "# CEO age\n",
    "data['ceo_age'] = data['year'] - data['birth_year']\n",
    "data = data.assign(\n",
    "    flag_low_ceo_age = (data['ceo_age'] < 25).astype(int),\n",
    "    flag_high_ceo_age = (data['ceo_age'] > 75).astype(int),\n",
    "    flag_miss_ceo_age = (data['ceo_age'].isna()).astype(int))\n",
    "\n",
    "\n",
    "data['ceo_age'] = np.where(data['ceo_age'] < 25, 25, data['ceo_age'])\n",
    "data['ceo_age'] = np.where(data['ceo_age'] > 75, 75, data['ceo_age'])\n",
    "data['ceo_age'] = np.where(data['ceo_age'].isna(), data['ceo_age'].mean(), data['ceo_age'])\n",
    "data['ceo_young'] = (data['ceo_age'] < 40).astype(int)"
   ]
  },
  {
   "cell_type": "code",
   "execution_count": 132,
   "id": "e72d31f4",
   "metadata": {},
   "outputs": [],
   "source": [
    "# number emp, very noisy measure\n",
    "data['labor_avg_mod'] = np.where(data['labor_avg'].isna(), data['labor_avg'].mean(), data['labor_avg'])\n",
    "data['flag_miss_labor_avg'] = (data['labor_avg'].isna()).astype(int)"
   ]
  },
  {
   "cell_type": "code",
   "execution_count": 133,
   "id": "7859d126",
   "metadata": {},
   "outputs": [
    {
     "data": {
      "text/plain": [
       "count    16712.000000\n",
       "mean         0.680562\n",
       "std          1.700423\n",
       "min          0.083333\n",
       "25%          0.125000\n",
       "50%          0.250000\n",
       "75%          0.597222\n",
       "max         64.583336\n",
       "Name: labor_avg, dtype: float64"
      ]
     },
     "execution_count": 133,
     "metadata": {},
     "output_type": "execute_result"
    }
   ],
   "source": [
    "data['labor_avg'].describe()"
   ]
  },
  {
   "cell_type": "code",
   "execution_count": 134,
   "id": "d2929744",
   "metadata": {},
   "outputs": [
    {
     "data": {
      "text/plain": [
       "count    21290.000000\n",
       "mean         0.680562\n",
       "std          1.506540\n",
       "min          0.083333\n",
       "25%          0.166667\n",
       "50%          0.395833\n",
       "75%          0.680562\n",
       "max         64.583336\n",
       "Name: labor_avg_mod, dtype: float64"
      ]
     },
     "execution_count": 134,
     "metadata": {},
     "output_type": "execute_result"
    }
   ],
   "source": [
    "data['labor_avg_mod'].describe()"
   ]
  },
  {
   "cell_type": "code",
   "execution_count": 135,
   "id": "39a45200",
   "metadata": {},
   "outputs": [],
   "source": [
    "data = data.drop(['labor_avg'], axis=1)"
   ]
  },
  {
   "cell_type": "code",
   "execution_count": 136,
   "id": "f09d0e15",
   "metadata": {},
   "outputs": [],
   "source": [
    "########################################################################\n",
    " # sales \n",
    "########################################################################\n",
    "data['sales_mil_log_sq'] = data['sales_mil_log']**2"
   ]
  },
  {
   "cell_type": "code",
   "execution_count": 137,
   "id": "f636a7d5",
   "metadata": {},
   "outputs": [],
   "source": [
    "# create category type variables\n",
    "data['urban_m'] = data['urban_m'].astype(\"category\")\n",
    "data['ind2_cat'] = data['ind2_cat'].astype(\"category\")\n",
    "data['f_fast_growth'] = data['fast_growth'].astype(\"category\")\n",
    "data['f_fast_growth'] = data['f_fast_growth'].cat.rename_categories(['no_fast_growth', 'growth'])"
   ]
  },
  {
   "cell_type": "code",
   "execution_count": 138,
   "id": "b162a27c",
   "metadata": {},
   "outputs": [
    {
     "data": {
      "image/png": "[encoded data removed]",
      "text/plain": [
       "<Figure size 640x480 with 1 Axes>"
      ]
     },
     "metadata": {},
     "output_type": "display_data"
    },
    {
     "data": {
      "text/plain": [
       "<ggplot: (147649962189)>"
      ]
     },
     "execution_count": 138,
     "metadata": {},
     "output_type": "execute_result"
    }
   ],
   "source": [
    "ggplot(data, aes(x = \"sales_mil_log\", y = \"fast_growth\")) + geom_point(\n",
    "    color = 'blue') + geom_smooth(\n",
    "    method='lm', formula='y ~ x + I(x**2)',  color=color[3], se = False) + geom_smooth(color=color[4], se = False, size=1.5, span=0.9) + labs(\n",
    "    x=\"sales_mil_log\", y=\"fast_growth\"\n",
    ") + theme_bw()"
   ]
  },
  {
   "cell_type": "code",
   "execution_count": 139,
   "id": "9d611ab3",
   "metadata": {},
   "outputs": [
    {
     "name": "stdout",
     "output_type": "stream",
     "text": [
      "                            OLS Regression Results                            \n",
      "==============================================================================\n",
      "Dep. Variable:            fast_growth   R-squared:                       0.014\n",
      "Model:                            OLS   Adj. R-squared:                  0.014\n",
      "Method:                 Least Squares   F-statistic:                     150.8\n",
      "Date:                Sun, 05 Dec 2021   Prob (F-statistic):           9.19e-66\n",
      "Time:                        20:08:09   Log-Likelihood:                -13619.\n",
      "No. Observations:               21290   AIC:                         2.724e+04\n",
      "Df Residuals:                   21287   BIC:                         2.727e+04\n",
      "Df Model:                           2                                         \n",
      "Covariance Type:            nonrobust                                         \n",
      "====================================================================================\n",
      "                       coef    std err          t      P>|t|      [0.025      0.975]\n",
      "------------------------------------------------------------------------------------\n",
      "Intercept            0.3587      0.007     51.148      0.000       0.345       0.372\n",
      "sales_mil_log       -0.0098      0.005     -2.146      0.032      -0.019      -0.001\n",
      "sales_mil_log_sq    -0.0069      0.001     -8.919      0.000      -0.008      -0.005\n",
      "==============================================================================\n",
      "Omnibus:                    65117.819   Durbin-Watson:                   1.988\n",
      "Prob(Omnibus):                  0.000   Jarque-Bera (JB):             3782.809\n",
      "Skew:                           0.806   Prob(JB):                         0.00\n",
      "Kurtosis:                       1.710   Cond. No.                         39.1\n",
      "==============================================================================\n",
      "\n",
      "Notes:\n",
      "[1] Standard Errors assume that the covariance matrix of the errors is correctly specified.\n"
     ]
    }
   ],
   "source": [
    "# Linear regressions\n",
    "ols_s = smf.ols('fast_growth ~ sales_mil_log + sales_mil_log_sq', data = data).fit()\n",
    "print(ols_s.summary())"
   ]
  },
  {
   "cell_type": "code",
   "execution_count": 140,
   "id": "a3fad21f",
   "metadata": {},
   "outputs": [
    {
     "name": "stderr",
     "output_type": "stream",
     "text": [
      "C:\\Users\\99450\\anaconda\\lib\\site-packages\\plotnine\\layer.py:401: PlotnineWarning: geom_point : Removed 14763 rows containing missing values.\n"
     ]
    },
    {
     "data": {
      "image/png": "[encoded data removed]",
      "text/plain": [
       "<Figure size 640x480 with 1 Axes>"
      ]
     },
     "metadata": {},
     "output_type": "display_data"
    },
    {
     "data": {
      "text/plain": [
       "<ggplot: (147676556370)>"
      ]
     },
     "execution_count": 140,
     "metadata": {},
     "output_type": "execute_result"
    }
   ],
   "source": [
    "ggplot(data, aes(x = 'ln_sales', y = 'fast_growth')) + geom_point(\n",
    "    color=color[1]) + geom_smooth(color=color[0], se = False, size=1.5, span=0.9) + labs(\n",
    "    x='Growth rate (Diff of ln sales)', y='fast_growth') + scale_x_continuous(\n",
    "    limits=(7, 10), breaks = seq(7, 12, by = 2)\n",
    ") + theme_bw() "
   ]
  },
  {
   "cell_type": "code",
   "execution_count": 141,
   "id": "44ec5192",
   "metadata": {},
   "outputs": [],
   "source": [
    "# generate variables ---------------------------------------------------\n",
    "\n",
    "data['flag_low_d1_sales_mil_log'] = np.where(data['d1_sales_mil_log'] < -1.5, 1, 0)\n",
    "data['flag_high_d1_sales_mil_log'] = np.where(data['d1_sales_mil_log'] > 1.5, 1, 0)\n",
    "data['d1_sales_mil_log_mod'] = np.where(data['d1_sales_mil_log'] < -1.5, -1.5, \n",
    "                                        np.where(data['d1_sales_mil_log'] > 1.5, 1.5, data['d1_sales_mil_log']))\n",
    "data['d1_sales_mil_log_mod_sq'] = data['d1_sales_mil_log_mod']**2"
   ]
  },
  {
   "cell_type": "code",
   "execution_count": 142,
   "id": "a24089f2",
   "metadata": {},
   "outputs": [],
   "source": [
    "# no more imputation, drop obs if key vars missing\n",
    "data = data.dropna(subset = ['liq_assets_bs', 'foreign', 'ind'])"
   ]
  },
  {
   "cell_type": "code",
   "execution_count": 143,
   "id": "15085c21",
   "metadata": {},
   "outputs": [
    {
     "data": {
      "text/plain": [
       "count    19511.000000\n",
       "mean         9.670442\n",
       "std          7.406139\n",
       "min          0.000000\n",
       "25%          3.000000\n",
       "50%          8.000000\n",
       "75%         16.000000\n",
       "max         63.000000\n",
       "Name: age, dtype: float64"
      ]
     },
     "execution_count": 143,
     "metadata": {},
     "output_type": "execute_result"
    }
   ],
   "source": [
    "# drop missing\n",
    "data = data.dropna(subset = ['age', 'foreign', 'material_exp_pl', 'm_region_loc'])\n",
    "data['age'].describe()"
   ]
  },
  {
   "cell_type": "code",
   "execution_count": 144,
   "id": "b644359c",
   "metadata": {},
   "outputs": [],
   "source": [
    "# drop unused factor levels\n",
    "for col in data.select_dtypes(include=['category']).columns:\n",
    "    data[col] = data[col].cat.remove_unused_categories()"
   ]
  },
  {
   "cell_type": "code",
   "execution_count": 145,
   "id": "ca1896b0",
   "metadata": {},
   "outputs": [
    {
     "data": {
      "text/plain": [
       "Index(['exit_year', 'birth_year', 'exit_date'], dtype='object')"
      ]
     },
     "execution_count": 145,
     "metadata": {},
     "output_type": "execute_result"
    }
   ],
   "source": [
    "# show the columns of missing value\n",
    "to_filter=data.isna().sum()\n",
    "to_filter[to_filter > 0].index"
   ]
  },
  {
   "cell_type": "code",
   "execution_count": 47,
   "id": "781ce208",
   "metadata": {},
   "outputs": [],
   "source": [
    "#I didnt like this result so I skip it\n",
    "\n",
    "#ggplot(data, aes(x = 'd1_sales_mil_log', y = 'fast_growth')) + geom_point(\n",
    "#    size = 0.1, color = color[1]) + geom_smooth( color = color[0], se = False, size=1.5, span=0.9) + labs(\n",
    "#    x='Growth rate (Diff of ln sales)', y='Growth') + scale_x_continuous(\n",
    "#    limits=(-1.5, 1.5), breaks = seq(-1.5, 1.5, by = 0.5)\n",
    "#) + theme_bw() "
   ]
  },
  {
   "cell_type": "code",
   "execution_count": 146,
   "id": "5d57dc7c",
   "metadata": {},
   "outputs": [],
   "source": [
    "data.to_csv('cs_bisnode_cleaned.csv')"
   ]
  },
  {
   "cell_type": "code",
   "execution_count": null,
   "id": "1857f060",
   "metadata": {},
   "outputs": [],
   "source": []
  }
 ],
 "metadata": {
  "kernelspec": {
   "display_name": "Python 3",
   "language": "python",
   "name": "python3"
  },
  "language_info": {
   "codemirror_mode": {
    "name": "ipython",
    "version": 3
   },
   "file_extension": ".py",
   "mimetype": "text/x-python",
   "name": "python",
   "nbconvert_exporter": "python",
   "pygments_lexer": "ipython3",
   "version": "3.8.8"
  }
 },
 "nbformat": 4,
 "nbformat_minor": 5
}
