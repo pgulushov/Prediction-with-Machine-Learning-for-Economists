{
 "cells": [
  {
   "cell_type": "code",
   "execution_count": 2,
   "id": "7656b661",
   "metadata": {},
   "outputs": [],
   "source": [
    "import pandas as pd\n",
    "import numpy as np\n",
    "import os\n",
    "from pathlib import Path\n",
    "import sys\n",
    "import re\n",
    "from datetime import datetime"
   ]
  },
  {
   "cell_type": "code",
   "execution_count": 84,
   "id": "5f5d208a",
   "metadata": {},
   "outputs": [],
   "source": [
    "data=pd.read_csv('listings_mad.csv')"
   ]
  },
  {
   "cell_type": "code",
   "execution_count": 85,
   "id": "1adb6e68",
   "metadata": {},
   "outputs": [
    {
     "name": "stdout",
     "output_type": "stream",
     "text": [
      "<class 'pandas.core.frame.DataFrame'>\n",
      "RangeIndex: 17634 entries, 0 to 17633\n",
      "Data columns (total 74 columns):\n",
      " #   Column                                        Non-Null Count  Dtype  \n",
      "---  ------                                        --------------  -----  \n",
      " 0   id                                            17634 non-null  int64  \n",
      " 1   listing_url                                   17634 non-null  object \n",
      " 2   scrape_id                                     17634 non-null  int64  \n",
      " 3   last_scraped                                  17634 non-null  object \n",
      " 4   name                                          17631 non-null  object \n",
      " 5   description                                   16814 non-null  object \n",
      " 6   neighborhood_overview                         10403 non-null  object \n",
      " 7   picture_url                                   17633 non-null  object \n",
      " 8   host_id                                       17634 non-null  int64  \n",
      " 9   host_url                                      17634 non-null  object \n",
      " 10  host_name                                     17627 non-null  object \n",
      " 11  host_since                                    17627 non-null  object \n",
      " 12  host_location                                 17586 non-null  object \n",
      " 13  host_about                                    8825 non-null   object \n",
      " 14  host_response_time                            11342 non-null  object \n",
      " 15  host_response_rate                            11342 non-null  object \n",
      " 16  host_acceptance_rate                          11232 non-null  object \n",
      " 17  host_is_superhost                             17627 non-null  object \n",
      " 18  host_thumbnail_url                            17627 non-null  object \n",
      " 19  host_picture_url                              17627 non-null  object \n",
      " 20  host_neighbourhood                            11043 non-null  object \n",
      " 21  host_listings_count                           17627 non-null  float64\n",
      " 22  host_total_listings_count                     17627 non-null  float64\n",
      " 23  host_verifications                            17634 non-null  object \n",
      " 24  host_has_profile_pic                          17627 non-null  object \n",
      " 25  host_identity_verified                        17627 non-null  object \n",
      " 26  neighbourhood                                 10403 non-null  object \n",
      " 27  neighbourhood_cleansed                        17634 non-null  object \n",
      " 28  neighbourhood_group_cleansed                  17634 non-null  object \n",
      " 29  latitude                                      17634 non-null  float64\n",
      " 30  longitude                                     17634 non-null  float64\n",
      " 31  property_type                                 17634 non-null  object \n",
      " 32  room_type                                     17634 non-null  object \n",
      " 33  accommodates                                  17634 non-null  int64  \n",
      " 34  bathrooms                                     0 non-null      float64\n",
      " 35  bathrooms_text                                17605 non-null  object \n",
      " 36  bedrooms                                      16295 non-null  float64\n",
      " 37  beds                                          16791 non-null  float64\n",
      " 38  amenities                                     17634 non-null  object \n",
      " 39  price                                         17634 non-null  object \n",
      " 40  minimum_nights                                17634 non-null  int64  \n",
      " 41  maximum_nights                                17634 non-null  int64  \n",
      " 42  minimum_minimum_nights                        17633 non-null  float64\n",
      " 43  maximum_minimum_nights                        17633 non-null  float64\n",
      " 44  minimum_maximum_nights                        17633 non-null  float64\n",
      " 45  maximum_maximum_nights                        17633 non-null  float64\n",
      " 46  minimum_nights_avg_ntm                        17633 non-null  float64\n",
      " 47  maximum_nights_avg_ntm                        17633 non-null  float64\n",
      " 48  calendar_updated                              0 non-null      float64\n",
      " 49  has_availability                              17634 non-null  object \n",
      " 50  availability_30                               17634 non-null  int64  \n",
      " 51  availability_60                               17634 non-null  int64  \n",
      " 52  availability_90                               17634 non-null  int64  \n",
      " 53  availability_365                              17634 non-null  int64  \n",
      " 54  calendar_last_scraped                         17634 non-null  object \n",
      " 55  number_of_reviews                             17634 non-null  int64  \n",
      " 56  number_of_reviews_ltm                         17634 non-null  int64  \n",
      " 57  number_of_reviews_l30d                        17634 non-null  int64  \n",
      " 58  first_review                                  13442 non-null  object \n",
      " 59  last_review                                   13442 non-null  object \n",
      " 60  review_scores_rating                          13442 non-null  float64\n",
      " 61  review_scores_accuracy                        13256 non-null  float64\n",
      " 62  review_scores_cleanliness                     13258 non-null  float64\n",
      " 63  review_scores_checkin                         13257 non-null  float64\n",
      " 64  review_scores_communication                   13257 non-null  float64\n",
      " 65  review_scores_location                        13254 non-null  float64\n",
      " 66  review_scores_value                           13253 non-null  float64\n",
      " 67  license                                       2710 non-null   object \n",
      " 68  instant_bookable                              17634 non-null  object \n",
      " 69  calculated_host_listings_count                17634 non-null  int64  \n",
      " 70  calculated_host_listings_count_entire_homes   17634 non-null  int64  \n",
      " 71  calculated_host_listings_count_private_rooms  17634 non-null  int64  \n",
      " 72  calculated_host_listings_count_shared_rooms   17634 non-null  int64  \n",
      " 73  reviews_per_month                             13442 non-null  float64\n",
      "dtypes: float64(22), int64(17), object(35)\n",
      "memory usage: 10.0+ MB\n"
     ]
    }
   ],
   "source": [
    "data.info()"
   ]
  },
  {
   "cell_type": "code",
   "execution_count": 86,
   "id": "e33ebab4",
   "metadata": {},
   "outputs": [
    {
     "data": {
      "text/plain": [
       "name                               3\n",
       "description                      820\n",
       "neighborhood_overview           7231\n",
       "picture_url                        1\n",
       "host_name                          7\n",
       "host_since                         7\n",
       "host_location                     48\n",
       "host_about                      8809\n",
       "host_response_time              6292\n",
       "host_response_rate              6292\n",
       "host_acceptance_rate            6402\n",
       "host_is_superhost                  7\n",
       "host_thumbnail_url                 7\n",
       "host_picture_url                   7\n",
       "host_neighbourhood              6591\n",
       "host_listings_count                7\n",
       "host_total_listings_count          7\n",
       "host_has_profile_pic               7\n",
       "host_identity_verified             7\n",
       "neighbourhood                   7231\n",
       "bathrooms                      17634\n",
       "bathrooms_text                    29\n",
       "bedrooms                        1339\n",
       "beds                             843\n",
       "minimum_minimum_nights             1\n",
       "maximum_minimum_nights             1\n",
       "minimum_maximum_nights             1\n",
       "maximum_maximum_nights             1\n",
       "minimum_nights_avg_ntm             1\n",
       "maximum_nights_avg_ntm             1\n",
       "calendar_updated               17634\n",
       "first_review                    4192\n",
       "last_review                     4192\n",
       "review_scores_rating            4192\n",
       "review_scores_accuracy          4378\n",
       "review_scores_cleanliness       4376\n",
       "review_scores_checkin           4377\n",
       "review_scores_communication     4377\n",
       "review_scores_location          4380\n",
       "review_scores_value             4381\n",
       "license                        14924\n",
       "reviews_per_month               4192\n",
       "dtype: int64"
      ]
     },
     "execution_count": 86,
     "metadata": {},
     "output_type": "execute_result"
    }
   ],
   "source": [
    "to_filter = data.isna().sum()\n",
    "to_filter[to_filter > 0]"
   ]
  },
  {
   "cell_type": "code",
   "execution_count": 87,
   "id": "d6d3c4f8",
   "metadata": {},
   "outputs": [],
   "source": [
    "# drop these variables: Because there are too many missing rule of thumb: delete if more than 7000 is missing\n",
    "data.drop(columns=['host_about','bathrooms', 'calendar_updated', 'license', \n",
    "                  'neighborhood_overview',  'neighbourhood'], inplace=True)\n"
   ]
  },
  {
   "cell_type": "code",
   "execution_count": 88,
   "id": "fdc3641e",
   "metadata": {},
   "outputs": [],
   "source": [
    "# process the missing value\n",
    "# fill mean strategy with these attributes:\n",
    "data['host_listings_count']=data['host_listings_count'].fillna(np.nanmean(data['host_listings_count']))\n",
    "data['host_total_listings_count']=data['host_total_listings_count'].fillna(np.nanmean(data['host_total_listings_count']))\n",
    "data['bedrooms']=data['bedrooms'].fillna(np.nanmean(data['bedrooms']))\n",
    "data['beds']=data['beds'].fillna(np.nanmean(data['beds']))"
   ]
  },
  {
   "cell_type": "code",
   "execution_count": 89,
   "id": "136787a5",
   "metadata": {},
   "outputs": [],
   "source": [
    "# drop rows if no value on these variables\n",
    "data.dropna(subset=['review_scores_rating', 'review_scores_accuracy', 'review_scores_cleanliness',\n",
    "                    'review_scores_checkin', 'review_scores_communication', 'review_scores_location',\n",
    "                    'review_scores_value', 'reviews_per_month', 'bathrooms_text'], inplace=True)"
   ]
  },
  {
   "cell_type": "code",
   "execution_count": 90,
   "id": "ad47172f",
   "metadata": {},
   "outputs": [],
   "source": [
    "#dummies\n",
    "data['host_is_superhost']=(data['host_is_superhost']=='t').astype(int)\n",
    "data['host_has_profile_pic']=(data['host_has_profile_pic']=='t').astype(int)\n",
    "data['host_identity_verified']=(data['host_identity_verified']=='t').astype(int)\n",
    "data['has_availability']=(data['has_availability']=='t').astype(int)\n",
    "data['instant_bookable']=(data['instant_bookable']=='t').astype(int)"
   ]
  },
  {
   "cell_type": "code",
   "execution_count": 91,
   "id": "f4a9fd67",
   "metadata": {},
   "outputs": [],
   "source": [
    "# Because the missing number of these attributes is small, they are assigned randomly\n",
    "data['host_is_superhost']=data['host_is_superhost'].fillna('t')\n",
    "data['host_has_profile_pic']=data['host_has_profile_pic'].fillna('t')\n",
    "data['host_identity_verified']=data['host_identity_verified'].fillna('t')"
   ]
  },
  {
   "cell_type": "code",
   "execution_count": 92,
   "id": "92597a43",
   "metadata": {},
   "outputs": [
    {
     "data": {
      "text/plain": [
       "Entire rental unit                     7389\n",
       "Private room in rental unit            3253\n",
       "Entire loft                             515\n",
       "Private room in residential home        357\n",
       "Entire condominium (condo)              342\n",
       "Private room in condominium (condo)     219\n",
       "Entire serviced apartment               195\n",
       "Private room in hostel                  127\n",
       "Entire residential home                 117\n",
       "Shared room in rental unit               73\n",
       "Private room in casa particular          61\n",
       "Private room in bed and breakfast        60\n",
       "Room in boutique hotel                   48\n",
       "Room in hostel                           47\n",
       "Private room in guest suite              36\n",
       "Private room in townhouse                35\n",
       "Room in hotel                            34\n",
       "Shared room in hostel                    31\n",
       "Private room in loft                     30\n",
       "Entire guest suite                       27\n",
       "Private room in guesthouse               26\n",
       "Private room in serviced apartment       25\n",
       "Private room in chalet                   24\n",
       "Shared room in bed and breakfast         19\n",
       "Entire guesthouse                        13\n",
       "Entire townhouse                         11\n",
       "Tiny house                               10\n",
       "Shared room in residential home          10\n",
       "Room in serviced apartment               10\n",
       "Entire place                              9\n",
       "Private room                              8\n",
       "Casa particular                           8\n",
       "Private room in floor                     7\n",
       "Private room in tiny house                7\n",
       "Private room in villa                     6\n",
       "Entire chalet                             5\n",
       "Floor                                     5\n",
       "Shared room in loft                       4\n",
       "Shared room in condominium (condo)        4\n",
       "Private room in earth house               4\n",
       "Room in aparthotel                        3\n",
       "Room in bed and breakfast                 3\n",
       "Shared room                               3\n",
       "Private room in dome house                2\n",
       "Entire villa                              2\n",
       "Entire home/apt                           2\n",
       "Dome house                                2\n",
       "Yurt                                      1\n",
       "Room in casa particular                   1\n",
       "Private room in ryokan                    1\n",
       "Hut                                       1\n",
       "Camper/RV                                 1\n",
       "Entire bed and breakfast                  1\n",
       "Cave                                      1\n",
       "Entire bungalow                           1\n",
       "Private room in bungalow                  1\n",
       "Name: property_type, dtype: int64"
      ]
     },
     "execution_count": 92,
     "metadata": {},
     "output_type": "execute_result"
    }
   ],
   "source": [
    "data.property_type.value_counts()"
   ]
  },
  {
   "cell_type": "code",
   "execution_count": 93,
   "id": "4203f619",
   "metadata": {},
   "outputs": [],
   "source": [
    "# Rename roomt type because it is too long, just two classes\n",
    "data= data.loc[data.property_type.isin(['Entire rental unit', 'Private room in rental unit'])]"
   ]
  },
  {
   "cell_type": "code",
   "execution_count": 94,
   "id": "6af8b1c5",
   "metadata": {},
   "outputs": [],
   "source": [
    "data.property_type = ['entire uint' if x == 'Entire rental unit' else 'private room' for x in data.property_type]\n",
    "data['f_property_type'] = data['property_type'].astype('category')"
   ]
  },
  {
   "cell_type": "code",
   "execution_count": 95,
   "id": "7b689852",
   "metadata": {},
   "outputs": [
    {
     "data": {
      "text/plain": [
       "Entire home/apt    7389\n",
       "Private room       3253\n",
       "Name: room_type, dtype: int64"
      ]
     },
     "execution_count": 95,
     "metadata": {},
     "output_type": "execute_result"
    }
   ],
   "source": [
    "data.room_type.value_counts()"
   ]
  },
  {
   "cell_type": "code",
   "execution_count": 96,
   "id": "3eb06bdb",
   "metadata": {},
   "outputs": [],
   "source": [
    "data['f_room_type'] = data['room_type'].astype('category')\n",
    "data[\"f_room_type2\"] = (\n",
    "    data[\"f_room_type\"]\n",
    "    .replace(\n",
    "        {\n",
    "            \"Entire home/apt\": \"Entire/Apt\",\n",
    "            \"Private room\": \"Private\",\n",
    "        }\n",
    "    )\n",
    "    .astype(\"category\")\n",
    ")"
   ]
  },
  {
   "cell_type": "code",
   "execution_count": 97,
   "id": "ba3677d0",
   "metadata": {},
   "outputs": [],
   "source": [
    "data['f_neighbourhood_cleansed'] = data['neighbourhood_cleansed'].astype('category')\n",
    "data['f_neighbourhood_group_cleansed'] = data['neighbourhood_group_cleansed'].astype('category')"
   ]
  },
  {
   "cell_type": "code",
   "execution_count": 98,
   "id": "a1d9d2ae",
   "metadata": {},
   "outputs": [],
   "source": [
    "data['n_days_since'] = pd.to_datetime(\n",
    "    data['calendar_last_scraped'], format='%Y-%m-%d'\n",
    ") - pd.to_datetime(data[\"first_review\"], format=\"%Y-%m-%d\")\n",
    "# Previous row creates a timedelta object in each row. Get the elapsed number of days like:\n",
    "data['n_days_since'] = [x.days for x in data['n_days_since']]"
   ]
  },
  {
   "cell_type": "code",
   "execution_count": 100,
   "id": "3139b843",
   "metadata": {},
   "outputs": [],
   "source": [
    "for column in (\n",
    "    'accommodates',\n",
    "    'beds',\n",
    "    'minimum_nights',\n",
    "    'number_of_reviews',\n",
    "    'review_scores_rating',\n",
    "    'reviews_per_month'\n",
    "):\n",
    "\n",
    "    data[\"n_\" + column] = pd.to_numeric(data[column], errors=\"coerce\")\n"
   ]
  },
  {
   "cell_type": "code",
   "execution_count": 101,
   "id": "bcadfe58",
   "metadata": {},
   "outputs": [
    {
     "data": {
      "text/plain": [
       "0        2\n",
       "1        1\n",
       "3        3\n",
       "5        4\n",
       "8        4\n",
       "        ..\n",
       "17450    1\n",
       "17454    2\n",
       "17467    2\n",
       "17495    2\n",
       "17554    4\n",
       "Name: accommodates, Length: 10642, dtype: int64"
      ]
     },
     "execution_count": 101,
     "metadata": {},
     "output_type": "execute_result"
    }
   ],
   "source": [
    "data['accommodates']"
   ]
  },
  {
   "cell_type": "code",
   "execution_count": 102,
   "id": "c819f338",
   "metadata": {},
   "outputs": [],
   "source": [
    "# keep columns if contain d_, n_,f_, p_, usd_ and some others\n",
    "data = data.filter(regex=('^d_.*|^n_.*|^f_.*')).join(\n",
    "    data[\n",
    "        [\n",
    "            'price',\n",
    "            'id',\n",
    "            'neighbourhood_cleansed',\n",
    "            'room_type',\n",
    "            'property_type',\n",
    "        ]\n",
    "    ]\n",
    ")"
   ]
  },
  {
   "cell_type": "code",
   "execution_count": 103,
   "id": "5aedf9c9",
   "metadata": {},
   "outputs": [
    {
     "data": {
      "text/plain": [
       "0        $60.00\n",
       "1        $31.00\n",
       "3        $92.00\n",
       "5        $85.00\n",
       "8        $81.00\n",
       "          ...  \n",
       "17450    $21.00\n",
       "17454    $80.00\n",
       "17467    $50.00\n",
       "17495    $65.00\n",
       "17554    $40.00\n",
       "Name: price, Length: 10642, dtype: object"
      ]
     },
     "execution_count": 103,
     "metadata": {},
     "output_type": "execute_result"
    }
   ],
   "source": [
    "data['price']"
   ]
  },
  {
   "cell_type": "code",
   "execution_count": 104,
   "id": "24a89dc6",
   "metadata": {},
   "outputs": [],
   "source": [
    "data['price2'] = data['price'].str.replace('$', '',regex=True)"
   ]
  },
  {
   "cell_type": "code",
   "execution_count": 105,
   "id": "0d584d8a",
   "metadata": {},
   "outputs": [],
   "source": [
    "data['price2'] = data['price2'].str.replace('.', '',regex=True)"
   ]
  },
  {
   "cell_type": "code",
   "execution_count": 106,
   "id": "b4755562",
   "metadata": {},
   "outputs": [],
   "source": [
    "data['price2'] = data['price2'].str.replace(',', '',regex=True)"
   ]
  },
  {
   "cell_type": "code",
   "execution_count": 107,
   "id": "0a969e88",
   "metadata": {},
   "outputs": [],
   "source": [
    "data['price2']=data['price2'].astype(float)\n",
    "data['price2']=data['price2'].astype(int)"
   ]
  },
  {
   "cell_type": "code",
   "execution_count": 110,
   "id": "bf87d729",
   "metadata": {},
   "outputs": [],
   "source": [
    "data['price2']=data['price2']/100"
   ]
  },
  {
   "cell_type": "code",
   "execution_count": 111,
   "id": "c966ad03",
   "metadata": {},
   "outputs": [
    {
     "data": {
      "text/plain": [
       "0        60.0\n",
       "1        31.0\n",
       "3        92.0\n",
       "5        85.0\n",
       "8        81.0\n",
       "         ... \n",
       "17450    21.0\n",
       "17454    80.0\n",
       "17467    50.0\n",
       "17495    65.0\n",
       "17554    40.0\n",
       "Name: price2, Length: 10642, dtype: float64"
      ]
     },
     "execution_count": 111,
     "metadata": {},
     "output_type": "execute_result"
    }
   ],
   "source": [
    "data['price2']"
   ]
  },
  {
   "cell_type": "code",
   "execution_count": 112,
   "id": "151f4b54",
   "metadata": {},
   "outputs": [
    {
     "data": {
      "text/plain": [
       "0        2\n",
       "1        1\n",
       "3        3\n",
       "5        4\n",
       "8        4\n",
       "        ..\n",
       "17450    1\n",
       "17454    2\n",
       "17467    2\n",
       "17495    2\n",
       "17554    4\n",
       "Name: n_accommodates, Length: 10642, dtype: int64"
      ]
     },
     "execution_count": 112,
     "metadata": {},
     "output_type": "execute_result"
    }
   ],
   "source": [
    "data.n_accommodates"
   ]
  },
  {
   "cell_type": "code",
   "execution_count": 113,
   "id": "046d2c87",
   "metadata": {},
   "outputs": [],
   "source": [
    "# Squares and further values to create\n",
    "data = data.assign(\n",
    "    n_accommodates2=lambda x: x[\"n_accommodates\"] ** 2,\n",
    "    ln_accommodates=lambda x: np.log(x[\"n_accommodates\"]),\n",
    "    ln_accommodates2=lambda x: np.log(x[\"n_accommodates\"]) ** 2,\n",
    "    ln_beds=lambda x: np.log(x[\"n_beds\"]),\n",
    "    ln_number_of_reviews=lambda x: np.log(x[\"n_number_of_reviews\"] + 1),\n",
    ")"
   ]
  },
  {
   "cell_type": "code",
   "execution_count": 116,
   "id": "63e0ee1f",
   "metadata": {},
   "outputs": [
    {
     "data": {
      "text/plain": [
       "count    10642.000000\n",
       "mean       109.731254\n",
       "std        361.755599\n",
       "min          7.000000\n",
       "25%         42.000000\n",
       "50%         70.000000\n",
       "75%        106.000000\n",
       "max       9999.000000\n",
       "Name: price2, dtype: float64"
      ]
     },
     "execution_count": 116,
     "metadata": {},
     "output_type": "execute_result"
    }
   ],
   "source": [
    "data['price2'].describe()"
   ]
  },
  {
   "cell_type": "code",
   "execution_count": 118,
   "id": "7d05091a",
   "metadata": {},
   "outputs": [],
   "source": [
    "#drop top 25 percentile\n",
    "data = data.loc[lambda x: x.price2 < 106]"
   ]
  },
  {
   "cell_type": "code",
   "execution_count": 119,
   "id": "40fda00b",
   "metadata": {},
   "outputs": [
    {
     "name": "stderr",
     "output_type": "stream",
     "text": [
      "<ipython-input-119-9d8ed426229e>:8: SettingWithCopyWarning: \n",
      "A value is trying to be set on a copy of a slice from a DataFrame.\n",
      "Try using .loc[row_indexer,col_indexer] = value instead\n",
      "\n",
      "See the caveats in the documentation: https://pandas.pydata.org/pandas-docs/stable/user_guide/indexing.html#returning-a-view-versus-a-copy\n",
      "  data[\"f_number_of_reviews\"] = fnor\n"
     ]
    },
    {
     "data": {
      "text/plain": [
       "1      5546\n",
       "2      2406\n",
       "NaN       1\n",
       "0         0\n",
       "Name: f_number_of_reviews, dtype: int64"
      ]
     },
     "execution_count": 119,
     "metadata": {},
     "output_type": "execute_result"
    }
   ],
   "source": [
    "# Pool num of reviews to 3 categories: none, 1-51 and >51\n",
    "\n",
    "bins = pd.IntervalIndex.from_tuples(\n",
    "    [(0, 1), (1, 51), (51, max(data.n_number_of_reviews))], closed=\"left\"\n",
    ")\n",
    "fnor = pd.cut(data[\"n_number_of_reviews\"].to_list(), bins, labels=[\"0\", \"1\", \"2\"])\n",
    "fnor.categories = [0, 1, 2]\n",
    "data[\"f_number_of_reviews\"] = fnor\n",
    "data[\"f_number_of_reviews\"].value_counts(dropna=False)"
   ]
  },
  {
   "cell_type": "code",
   "execution_count": 120,
   "id": "31d7e6ee",
   "metadata": {},
   "outputs": [
    {
     "name": "stderr",
     "output_type": "stream",
     "text": [
      "<ipython-input-120-fab1080d13f5>:8: SettingWithCopyWarning: \n",
      "A value is trying to be set on a copy of a slice from a DataFrame.\n",
      "Try using .loc[row_indexer,col_indexer] = value instead\n",
      "\n",
      "See the caveats in the documentation: https://pandas.pydata.org/pandas-docs/stable/user_guide/indexing.html#returning-a-view-versus-a-copy\n",
      "  data[\"f_minimum_nights\"] = f_min_n\n"
     ]
    },
    {
     "data": {
      "text/plain": [
       "3      3088\n",
       "1      2544\n",
       "2      2319\n",
       "NaN       2\n",
       "Name: f_minimum_nights, dtype: int64"
      ]
     },
     "execution_count": 120,
     "metadata": {},
     "output_type": "execute_result"
    }
   ],
   "source": [
    "# Pool and categorize the number of minimum nights: 1,2,3, 3+\n",
    "\n",
    "bins = pd.IntervalIndex.from_tuples(\n",
    "    [(1, 2), (2, 3), (3, max(data.n_minimum_nights))], closed=\"left\"\n",
    ")\n",
    "f_min_n = pd.cut(data[\"n_minimum_nights\"].to_list(), bins, labels=[\"1\", \"2\", \"3\"])\n",
    "f_min_n.categories = [1, 2, 3]\n",
    "data[\"f_minimum_nights\"] = f_min_n\n",
    "data[\"f_minimum_nights\"].value_counts(dropna=False)"
   ]
  },
  {
   "cell_type": "code",
   "execution_count": 121,
   "id": "91a2fd99",
   "metadata": {},
   "outputs": [],
   "source": [
    "# Change Infinite values with NaNs\n",
    "data = data.replace([np.inf, -np.inf], np.nan)"
   ]
  },
  {
   "cell_type": "code",
   "execution_count": 122,
   "id": "e911fb46",
   "metadata": {},
   "outputs": [],
   "source": [
    "# what to do with missing values?\n",
    "# 1. drop if no target\n",
    "data = data.loc[lambda x: x.price2.notnull()]"
   ]
  },
  {
   "cell_type": "code",
   "execution_count": 124,
   "id": "502c6634",
   "metadata": {},
   "outputs": [],
   "source": [
    "# 2. imput when few, not that important\n",
    "data = data.assign(\n",
    "    n_beds=lambda x: np.where(x[\"n_beds\"].isnull(), x[\"n_accommodates\"], x[\"n_beds\"]),\n",
    "    f_minimum_nights=lambda x: x[\"f_minimum_nights\"].fillna(1),\n",
    "    f_number_of_reviews=lambda x: x[\"f_number_of_reviews\"].fillna(1),\n",
    "    ln_beds=lambda x: x[\"ln_beds\"].fillna(0),\n",
    ")"
   ]
  },
  {
   "cell_type": "code",
   "execution_count": 126,
   "id": "c4c539cc",
   "metadata": {},
   "outputs": [
    {
     "data": {
      "text/plain": [
       "Series([], dtype: int64)"
      ]
     },
     "execution_count": 126,
     "metadata": {},
     "output_type": "execute_result"
    }
   ],
   "source": [
    "to_filter = data.isna().sum()\n",
    "to_filter[to_filter > 0]"
   ]
  },
  {
   "cell_type": "code",
   "execution_count": 127,
   "id": "c289e57e",
   "metadata": {},
   "outputs": [],
   "source": [
    "# 4. Replace missing variables re reviews with zero, when no review + add flags\n",
    "data = data.assign(\n",
    "    flag_days_since=np.multiply(data.n_days_since.isna(), 1),\n",
    "    n_days_since=data.n_days_since.fillna(np.median(data.n_days_since.dropna())),\n",
    "    flag_review_scores_rating=np.multiply(data.n_review_scores_rating.isna(), 1),\n",
    "    n_review_scores_rating=data.n_review_scores_rating.fillna(\n",
    "        np.median(data.n_review_scores_rating.dropna())\n",
    "    ),\n",
    "    flag_reviews_per_month=np.multiply(data.n_reviews_per_month.isna(), 1),\n",
    "    n_reviews_per_month=data.n_reviews_per_month.fillna(\n",
    "        np.median(data.n_reviews_per_month.dropna())\n",
    "    ),\n",
    "    flag_n_number_of_reviews=np.multiply(data.n_number_of_reviews.isna(), 1),\n",
    ")"
   ]
  },
  {
   "cell_type": "code",
   "execution_count": 128,
   "id": "6344c17a",
   "metadata": {},
   "outputs": [
    {
     "name": "stderr",
     "output_type": "stream",
     "text": [
      "/home/ubuntu/anaconda3/lib/python3.8/site-packages/pandas/core/arraylike.py:358: RuntimeWarning: divide by zero encountered in log\n",
      "  result = getattr(ufunc, method)(*inputs, **kwargs)\n"
     ]
    }
   ],
   "source": [
    "# redo features\n",
    "# Create variables, measuring the time since: squared, cubic, logs\n",
    "data = data.assign(\n",
    "    ln_days_since=lambda x: np.log(x[\"n_days_since\"] + 1),\n",
    "    ln_days_since2=lambda x: np.log(x[\"n_days_since\"] + 1) ** 2,\n",
    "    ln_days_since3=lambda x: np.log(x[\"n_days_since\"] + 1) ** 3,\n",
    "    n_days_since2=lambda x: x[\"n_days_since\"] ** 2,\n",
    "    n_days_since3=lambda x: x[\"n_days_since\"] ** 3,\n",
    "    ln_review_scores_rating=lambda x: np.log(x[\"n_review_scores_rating\"]),\n",
    ")"
   ]
  },
  {
   "cell_type": "code",
   "execution_count": 129,
   "id": "479c6a4e",
   "metadata": {},
   "outputs": [],
   "source": [
    "data.ln_days_since = data[\"ln_days_since\"].fillna(0)\n",
    "data.ln_days_since2 = data[\"ln_days_since2\"].fillna(0)\n",
    "data.ln_days_since3 = data[\"ln_days_since3\"].fillna(0)"
   ]
  },
  {
   "cell_type": "code",
   "execution_count": 130,
   "id": "60bbab21",
   "metadata": {},
   "outputs": [
    {
     "data": {
      "text/html": [
       "<div>\n",
       "<style scoped>\n",
       "    .dataframe tbody tr th:only-of-type {\n",
       "        vertical-align: middle;\n",
       "    }\n",
       "\n",
       "    .dataframe tbody tr th {\n",
       "        vertical-align: top;\n",
       "    }\n",
       "\n",
       "    .dataframe thead th {\n",
       "        text-align: right;\n",
       "    }\n",
       "</style>\n",
       "<table border=\"1\" class=\"dataframe\">\n",
       "  <thead>\n",
       "    <tr style=\"text-align: right;\">\n",
       "      <th></th>\n",
       "      <th>n_days_since</th>\n",
       "      <th>n_accommodates</th>\n",
       "      <th>n_beds</th>\n",
       "      <th>n_minimum_nights</th>\n",
       "      <th>n_number_of_reviews</th>\n",
       "      <th>n_review_scores_rating</th>\n",
       "      <th>n_reviews_per_month</th>\n",
       "      <th>id</th>\n",
       "      <th>price2</th>\n",
       "      <th>n_accommodates2</th>\n",
       "      <th>...</th>\n",
       "      <th>flag_days_since</th>\n",
       "      <th>flag_review_scores_rating</th>\n",
       "      <th>flag_reviews_per_month</th>\n",
       "      <th>flag_n_number_of_reviews</th>\n",
       "      <th>ln_days_since</th>\n",
       "      <th>ln_days_since2</th>\n",
       "      <th>ln_days_since3</th>\n",
       "      <th>n_days_since2</th>\n",
       "      <th>n_days_since3</th>\n",
       "      <th>ln_review_scores_rating</th>\n",
       "    </tr>\n",
       "  </thead>\n",
       "  <tbody>\n",
       "    <tr>\n",
       "      <th>count</th>\n",
       "      <td>7953.000000</td>\n",
       "      <td>7953.000000</td>\n",
       "      <td>7953.000000</td>\n",
       "      <td>7953.000000</td>\n",
       "      <td>7953.000000</td>\n",
       "      <td>7953.000000</td>\n",
       "      <td>7953.000000</td>\n",
       "      <td>7.953000e+03</td>\n",
       "      <td>7953.00000</td>\n",
       "      <td>7953.000000</td>\n",
       "      <td>...</td>\n",
       "      <td>7953.0</td>\n",
       "      <td>7953.0</td>\n",
       "      <td>7953.0</td>\n",
       "      <td>7953.0</td>\n",
       "      <td>7953.000000</td>\n",
       "      <td>7953.000000</td>\n",
       "      <td>7953.000000</td>\n",
       "      <td>7.953000e+03</td>\n",
       "      <td>7.953000e+03</td>\n",
       "      <td>7953.000000</td>\n",
       "    </tr>\n",
       "    <tr>\n",
       "      <th>mean</th>\n",
       "      <td>1158.175657</td>\n",
       "      <td>2.754558</td>\n",
       "      <td>1.713513</td>\n",
       "      <td>6.791651</td>\n",
       "      <td>52.718597</td>\n",
       "      <td>4.639622</td>\n",
       "      <td>1.417748</td>\n",
       "      <td>2.776392e+07</td>\n",
       "      <td>56.79580</td>\n",
       "      <td>9.659877</td>\n",
       "      <td>...</td>\n",
       "      <td>0.0</td>\n",
       "      <td>0.0</td>\n",
       "      <td>0.0</td>\n",
       "      <td>0.0</td>\n",
       "      <td>6.636270</td>\n",
       "      <td>45.463224</td>\n",
       "      <td>317.829916</td>\n",
       "      <td>1.937956e+06</td>\n",
       "      <td>3.856923e+09</td>\n",
       "      <td>-inf</td>\n",
       "    </tr>\n",
       "    <tr>\n",
       "      <th>std</th>\n",
       "      <td>772.437817</td>\n",
       "      <td>1.439634</td>\n",
       "      <td>0.942130</td>\n",
       "      <td>33.637092</td>\n",
       "      <td>80.945491</td>\n",
       "      <td>0.463599</td>\n",
       "      <td>1.611978</td>\n",
       "      <td>1.498861e+07</td>\n",
       "      <td>25.19783</td>\n",
       "      <td>10.665465</td>\n",
       "      <td>...</td>\n",
       "      <td>0.0</td>\n",
       "      <td>0.0</td>\n",
       "      <td>0.0</td>\n",
       "      <td>0.0</td>\n",
       "      <td>1.193029</td>\n",
       "      <td>13.652850</td>\n",
       "      <td>124.708870</td>\n",
       "      <td>2.215514e+06</td>\n",
       "      <td>6.425333e+09</td>\n",
       "      <td>NaN</td>\n",
       "    </tr>\n",
       "    <tr>\n",
       "      <th>min</th>\n",
       "      <td>1.000000</td>\n",
       "      <td>1.000000</td>\n",
       "      <td>1.000000</td>\n",
       "      <td>1.000000</td>\n",
       "      <td>1.000000</td>\n",
       "      <td>0.000000</td>\n",
       "      <td>0.010000</td>\n",
       "      <td>6.369000e+03</td>\n",
       "      <td>7.00000</td>\n",
       "      <td>1.000000</td>\n",
       "      <td>...</td>\n",
       "      <td>0.0</td>\n",
       "      <td>0.0</td>\n",
       "      <td>0.0</td>\n",
       "      <td>0.0</td>\n",
       "      <td>0.693147</td>\n",
       "      <td>0.480453</td>\n",
       "      <td>0.333025</td>\n",
       "      <td>1.000000e+00</td>\n",
       "      <td>1.000000e+00</td>\n",
       "      <td>-inf</td>\n",
       "    </tr>\n",
       "    <tr>\n",
       "      <th>25%</th>\n",
       "      <td>639.000000</td>\n",
       "      <td>2.000000</td>\n",
       "      <td>1.000000</td>\n",
       "      <td>1.000000</td>\n",
       "      <td>4.000000</td>\n",
       "      <td>4.500000</td>\n",
       "      <td>0.250000</td>\n",
       "      <td>1.637624e+07</td>\n",
       "      <td>35.00000</td>\n",
       "      <td>4.000000</td>\n",
       "      <td>...</td>\n",
       "      <td>0.0</td>\n",
       "      <td>0.0</td>\n",
       "      <td>0.0</td>\n",
       "      <td>0.0</td>\n",
       "      <td>6.461468</td>\n",
       "      <td>41.750571</td>\n",
       "      <td>269.769986</td>\n",
       "      <td>4.083210e+05</td>\n",
       "      <td>2.609171e+08</td>\n",
       "      <td>1.504077</td>\n",
       "    </tr>\n",
       "    <tr>\n",
       "      <th>50%</th>\n",
       "      <td>1079.000000</td>\n",
       "      <td>2.000000</td>\n",
       "      <td>1.000000</td>\n",
       "      <td>2.000000</td>\n",
       "      <td>19.000000</td>\n",
       "      <td>4.750000</td>\n",
       "      <td>0.850000</td>\n",
       "      <td>2.757156e+07</td>\n",
       "      <td>56.00000</td>\n",
       "      <td>4.000000</td>\n",
       "      <td>...</td>\n",
       "      <td>0.0</td>\n",
       "      <td>0.0</td>\n",
       "      <td>0.0</td>\n",
       "      <td>0.0</td>\n",
       "      <td>6.984716</td>\n",
       "      <td>48.786262</td>\n",
       "      <td>340.758201</td>\n",
       "      <td>1.164241e+06</td>\n",
       "      <td>1.256216e+09</td>\n",
       "      <td>1.558145</td>\n",
       "    </tr>\n",
       "    <tr>\n",
       "      <th>75%</th>\n",
       "      <td>1651.000000</td>\n",
       "      <td>4.000000</td>\n",
       "      <td>2.000000</td>\n",
       "      <td>3.000000</td>\n",
       "      <td>66.000000</td>\n",
       "      <td>4.920000</td>\n",
       "      <td>2.020000</td>\n",
       "      <td>4.028021e+07</td>\n",
       "      <td>77.00000</td>\n",
       "      <td>16.000000</td>\n",
       "      <td>...</td>\n",
       "      <td>0.0</td>\n",
       "      <td>0.0</td>\n",
       "      <td>0.0</td>\n",
       "      <td>0.0</td>\n",
       "      <td>7.409742</td>\n",
       "      <td>54.904276</td>\n",
       "      <td>406.826516</td>\n",
       "      <td>2.725801e+06</td>\n",
       "      <td>4.500297e+09</td>\n",
       "      <td>1.593309</td>\n",
       "    </tr>\n",
       "    <tr>\n",
       "      <th>max</th>\n",
       "      <td>3910.000000</td>\n",
       "      <td>16.000000</td>\n",
       "      <td>10.000000</td>\n",
       "      <td>1125.000000</td>\n",
       "      <td>758.000000</td>\n",
       "      <td>5.000000</td>\n",
       "      <td>24.590000</td>\n",
       "      <td>5.313910e+07</td>\n",
       "      <td>105.00000</td>\n",
       "      <td>256.000000</td>\n",
       "      <td>...</td>\n",
       "      <td>0.0</td>\n",
       "      <td>0.0</td>\n",
       "      <td>0.0</td>\n",
       "      <td>0.0</td>\n",
       "      <td>8.271548</td>\n",
       "      <td>68.418513</td>\n",
       "      <td>565.927036</td>\n",
       "      <td>1.528810e+07</td>\n",
       "      <td>5.977647e+10</td>\n",
       "      <td>1.609438</td>\n",
       "    </tr>\n",
       "  </tbody>\n",
       "</table>\n",
       "<p>8 rows × 24 columns</p>\n",
       "</div>"
      ],
      "text/plain": [
       "       n_days_since  n_accommodates       n_beds  n_minimum_nights  \\\n",
       "count   7953.000000     7953.000000  7953.000000       7953.000000   \n",
       "mean    1158.175657        2.754558     1.713513          6.791651   \n",
       "std      772.437817        1.439634     0.942130         33.637092   \n",
       "min        1.000000        1.000000     1.000000          1.000000   \n",
       "25%      639.000000        2.000000     1.000000          1.000000   \n",
       "50%     1079.000000        2.000000     1.000000          2.000000   \n",
       "75%     1651.000000        4.000000     2.000000          3.000000   \n",
       "max     3910.000000       16.000000    10.000000       1125.000000   \n",
       "\n",
       "       n_number_of_reviews  n_review_scores_rating  n_reviews_per_month  \\\n",
       "count          7953.000000             7953.000000          7953.000000   \n",
       "mean             52.718597                4.639622             1.417748   \n",
       "std              80.945491                0.463599             1.611978   \n",
       "min               1.000000                0.000000             0.010000   \n",
       "25%               4.000000                4.500000             0.250000   \n",
       "50%              19.000000                4.750000             0.850000   \n",
       "75%              66.000000                4.920000             2.020000   \n",
       "max             758.000000                5.000000            24.590000   \n",
       "\n",
       "                 id      price2  n_accommodates2  ...  flag_days_since  \\\n",
       "count  7.953000e+03  7953.00000      7953.000000  ...           7953.0   \n",
       "mean   2.776392e+07    56.79580         9.659877  ...              0.0   \n",
       "std    1.498861e+07    25.19783        10.665465  ...              0.0   \n",
       "min    6.369000e+03     7.00000         1.000000  ...              0.0   \n",
       "25%    1.637624e+07    35.00000         4.000000  ...              0.0   \n",
       "50%    2.757156e+07    56.00000         4.000000  ...              0.0   \n",
       "75%    4.028021e+07    77.00000        16.000000  ...              0.0   \n",
       "max    5.313910e+07   105.00000       256.000000  ...              0.0   \n",
       "\n",
       "       flag_review_scores_rating  flag_reviews_per_month  \\\n",
       "count                     7953.0                  7953.0   \n",
       "mean                         0.0                     0.0   \n",
       "std                          0.0                     0.0   \n",
       "min                          0.0                     0.0   \n",
       "25%                          0.0                     0.0   \n",
       "50%                          0.0                     0.0   \n",
       "75%                          0.0                     0.0   \n",
       "max                          0.0                     0.0   \n",
       "\n",
       "       flag_n_number_of_reviews  ln_days_since  ln_days_since2  \\\n",
       "count                    7953.0    7953.000000     7953.000000   \n",
       "mean                        0.0       6.636270       45.463224   \n",
       "std                         0.0       1.193029       13.652850   \n",
       "min                         0.0       0.693147        0.480453   \n",
       "25%                         0.0       6.461468       41.750571   \n",
       "50%                         0.0       6.984716       48.786262   \n",
       "75%                         0.0       7.409742       54.904276   \n",
       "max                         0.0       8.271548       68.418513   \n",
       "\n",
       "       ln_days_since3  n_days_since2  n_days_since3  ln_review_scores_rating  \n",
       "count     7953.000000   7.953000e+03   7.953000e+03              7953.000000  \n",
       "mean       317.829916   1.937956e+06   3.856923e+09                     -inf  \n",
       "std        124.708870   2.215514e+06   6.425333e+09                      NaN  \n",
       "min          0.333025   1.000000e+00   1.000000e+00                     -inf  \n",
       "25%        269.769986   4.083210e+05   2.609171e+08                 1.504077  \n",
       "50%        340.758201   1.164241e+06   1.256216e+09                 1.558145  \n",
       "75%        406.826516   2.725801e+06   4.500297e+09                 1.593309  \n",
       "max        565.927036   1.528810e+07   5.977647e+10                 1.609438  \n",
       "\n",
       "[8 rows x 24 columns]"
      ]
     },
     "execution_count": 130,
     "metadata": {},
     "output_type": "execute_result"
    }
   ],
   "source": [
    "data.describe()"
   ]
  },
  {
   "cell_type": "code",
   "execution_count": 131,
   "id": "c4ca01a2",
   "metadata": {},
   "outputs": [],
   "source": [
    "data.to_csv('listings_mad_cleaned.csv')"
   ]
  },
  {
   "cell_type": "code",
   "execution_count": null,
   "id": "0421a6b7",
   "metadata": {},
   "outputs": [],
   "source": []
  }
 ],
 "metadata": {
  "kernelspec": {
   "display_name": "Python 3",
   "language": "python",
   "name": "python3"
  },
  "language_info": {
   "codemirror_mode": {
    "name": "ipython",
    "version": 3
   },
   "file_extension": ".py",
   "mimetype": "text/x-python",
   "name": "python",
   "nbconvert_exporter": "python",
   "pygments_lexer": "ipython3",
   "version": "3.8.8"
  }
 },
 "nbformat": 4,
 "nbformat_minor": 5
}
